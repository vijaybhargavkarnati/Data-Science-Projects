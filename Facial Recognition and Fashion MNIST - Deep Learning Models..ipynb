{
 "cells": [
  {
   "cell_type": "markdown",
   "id": "b466546e",
   "metadata": {},
   "source": [
    "<h3 style= \"color: orange; text-align: center;\"> Deep Learning Models <br> \n",
    "    <p style=\"text-align: center;\"> Handwritten digits recognition tasks and Facial Recongnition tasks.\n",
    "        <br> </p> <p style=\"text-align: center;\">Summer 2023</p> <h3>"
   ]
  },
  {
   "cell_type": "markdown",
   "id": "0842c49a",
   "metadata": {},
   "source": [
    "## Task 02"
   ]
  },
  {
   "cell_type": "markdown",
   "id": "d82c1c37",
   "metadata": {},
   "source": [
    "* Design and evaluate two different Deep Neural Network (DNN) models using ReLU and ELU\n",
    "activation functions considering the following criteria for handwritten digits recognition tasks."
   ]
  },
  {
   "cell_type": "code",
   "execution_count": 302,
   "id": "8dcf1304",
   "metadata": {},
   "outputs": [],
   "source": [
    "import numpy as np\n",
    "import tensorflow as tf\n",
    "from tensorflow.keras.datasets import mnist\n",
    "from tensorflow.keras.models import Sequential\n",
    "from tensorflow.keras.layers import Dense\n",
    "from tensorflow.keras.optimizers import Adam\n",
    "from tensorflow.keras.losses import CategoricalCrossentropy\n",
    "from tensorflow.keras.utils import to_categorical\n",
    "\n",
    "# Load and preprocess the MNIST dataset\n",
    "(x_train, y_train), (x_test, y_test) = mnist.load_data()\n",
    "x_train = x_train.reshape((-1, 784)).astype('float32') / 255.0\n",
    "x_test = x_test.reshape((-1, 784)).astype('float32') / 255.0\n",
    "y_train = to_categorical(y_train)\n",
    "y_test = to_categorical(y_test)\n"
   ]
  },
  {
   "cell_type": "code",
   "execution_count": 424,
   "id": "e65bb1fe",
   "metadata": {
    "scrolled": true
   },
   "outputs": [
    {
     "name": "stdout",
     "output_type": "stream",
     "text": [
      "Train: X=(60000, 28, 28), y=(60000,)\n",
      "Test: X=(10000, 28, 28), y=(10000,)\n"
     ]
    },
    {
     "data": {
      "image/png": "[encoded data removed]",
      "text/plain": [
       "<Figure size 576x396 with 9 Axes>"
      ]
     },
     "metadata": {},
     "output_type": "display_data"
    }
   ],
   "source": [
    "(trainX, trainy), (testX, testy) = mnist.load_data()\n",
    "# summarize loaded dataset\n",
    "print('Train: X=%s, y=%s' % (trainX.shape, trainy.shape))\n",
    "print('Test: X=%s, y=%s' % (testX.shape, testy.shape))\n",
    "\n",
    "# plot first few images\n",
    "for i in range(9):\n",
    " # define subplot\n",
    " plt.subplot(330 + 1 + i)\n",
    " # plot raw pixel data\n",
    " plt.imshow(trainX[i], cmap=plt.get_cmap('gray'))\n",
    "# show the figure\n",
    "plt.show()"
   ]
  },
  {
   "cell_type": "markdown",
   "id": "5a28a5b5",
   "metadata": {},
   "source": [
    "<h3 style = \"background-color:blue;color:yellow;\" > Model 1 (Activation functions: ReLU)</h3>"
   ]
  },
  {
   "cell_type": "code",
   "execution_count": 513,
   "id": "fafa40d5",
   "metadata": {},
   "outputs": [],
   "source": [
    "import numpy as np\n",
    "from tensorflow.keras.datasets import mnist\n",
    "from tensorflow.keras.models import Sequential\n",
    "from tensorflow.keras.layers import Dense\n",
    "from tensorflow.keras.optimizers import Adam\n",
    "from tensorflow.keras.utils import to_categorical\n",
    "\n",
    "\n",
    "# Load train and test dataset\n",
    "def load_dataset():\n",
    "    # Load dataset\n",
    "    (trainX, trainY), (testX, testY) = mnist.load_data()\n",
    "    # Reshape dataset to have a single channel\n",
    "    trainX = trainX.reshape((trainX.shape[0], 784))\n",
    "    testX = testX.reshape((testX.shape[0], 784))\n",
    "    # One hot encode target values\n",
    "    trainY = to_categorical(trainY)\n",
    "    testY = to_categorical(testY)\n",
    "    return trainX, trainY, testX, testY\n",
    "    "
   ]
  },
  {
   "cell_type": "code",
   "execution_count": 418,
   "id": "3704e06f",
   "metadata": {},
   "outputs": [],
   "source": [
    "\n",
    "# Scale pixels \n",
    "def prep_pixels(train, test):\n",
    "    # Convert from integers to floats\n",
    "    train_norm = train.astype('float32')\n",
    "    test_norm = test.astype('float32')\n",
    "    # Normalize to range 0-1\n",
    "    train_norm = train_norm / 255.0\n",
    "    test_norm = test_norm / 255.0\n",
    "    # Return normalized images\n",
    "    return train_norm, test_norm\n",
    "\n"
   ]
  },
  {
   "cell_type": "code",
   "execution_count": 419,
   "id": "b6d0b0b8",
   "metadata": {},
   "outputs": [],
   "source": [
    "def define_model():\n",
    "    # Define the DNN model\n",
    "    model1 = Sequential([\n",
    "        Dense(500, activation='relu', input_shape=(784,)),\n",
    "        Dense(250, activation='relu'),\n",
    "        Dense(100, activation='relu'),\n",
    "        Dense(10, activation='softmax')\n",
    "    ])\n",
    "    # Compile the model\n",
    "    model1.compile(optimizer=Adam(), loss='categorical_crossentropy', metrics=['accuracy'])\n",
    "    return model1\n",
    "\n"
   ]
  },
  {
   "cell_type": "code",
   "execution_count": 730,
   "id": "6ad4e04c",
   "metadata": {},
   "outputs": [],
   "source": [
    "def evaluate_model(trainX, trainY, testX, testY):\n",
    "    # Train the model\n",
    "    batch_size = 32  # Choose 16, 32, or 64\n",
    "    epochs = 50\n",
    "    model1 = define_model()\n",
    "    history = model1.fit(trainX, trainY, batch_size=batch_size, epochs=epochs, validation_data=(testX, testY))\n",
    "    # Evaluate the model\n",
    "    _, acc = model1.evaluate(testX, testY, verbose=0)\n",
    "    print('> %.3f' % (acc * 100.0))\n",
    "    # Store accuracy\n",
    "    scores.append(acc)\n",
    "    histories.append(history)\n",
    "    return scores, histories, history, model1\n"
   ]
  },
  {
   "cell_type": "code",
   "execution_count": 731,
   "id": "d797b416",
   "metadata": {},
   "outputs": [],
   "source": [
    "def summarize_performance(scores):\n",
    "    # Summarize model performance\n",
    "    print(\"Accuracy: mean=%.3f, std=%.3f\" % (np.mean(scores) * 100, np.std(scores) * 100))\n",
    "\n"
   ]
  },
  {
   "cell_type": "code",
   "execution_count": 732,
   "id": "06385c99",
   "metadata": {},
   "outputs": [],
   "source": [
    "def test(model1):\n",
    "    # Evaluate the first model\n",
    "    y_pred_model1 = model1.predict(testX)\n",
    "    y_pred_labels_model1 = np.argmax(y_pred_model1, axis=1)\n",
    "    y_true_labels = np.argmax(testY, axis=1)\n",
    "\n",
    "    accuracy_model1 = accuracy_score(y_true_labels, y_pred_labels_model1)\n",
    "    print(\"The accuracy of Model\", accuracy_model1)\n",
    "\n",
    "    precision_model1 = precision_score(y_true_labels, y_pred_labels_model1, average='weighted')\n",
    "    print(\"The Precision of Model\",precision_model1)\n",
    "\n",
    "    recall_model1 = recall_score(y_true_labels, y_pred_labels_model1, average='weighted')\n",
    "    print(\"The Recall of Model\",recall_model1)\n",
    "\n",
    "    f1_score_model1 = f1_score(y_true_labels, y_pred_labels_model1, average='weighted')\n",
    "    print(\"The F1-score of Model\",f1_score_model1)\n",
    "    \n",
    "    "
   ]
  },
  {
   "cell_type": "code",
   "execution_count": 733,
   "id": "9d6e45f9",
   "metadata": {
    "scrolled": false
   },
   "outputs": [
    {
     "name": "stdout",
     "output_type": "stream",
     "text": [
      "Epoch 1/50\n",
      "1875/1875 [==============================] - 10s 5ms/step - loss: 0.1943 - accuracy: 0.9409 - val_loss: 0.1071 - val_accuracy: 0.9657\n",
      "Epoch 2/50\n",
      "1875/1875 [==============================] - 10s 5ms/step - loss: 0.0896 - accuracy: 0.9718 - val_loss: 0.0871 - val_accuracy: 0.9728\n",
      "Epoch 3/50\n",
      "1875/1875 [==============================] - 10s 5ms/step - loss: 0.0631 - accuracy: 0.9808 - val_loss: 0.0714 - val_accuracy: 0.9767\n",
      "Epoch 4/50\n",
      "1875/1875 [==============================] - 10s 5ms/step - loss: 0.0483 - accuracy: 0.9853 - val_loss: 0.0780 - val_accuracy: 0.9779\n",
      "Epoch 5/50\n",
      "1875/1875 [==============================] - 10s 5ms/step - loss: 0.0392 - accuracy: 0.9875 - val_loss: 0.0662 - val_accuracy: 0.9820\n",
      "Epoch 6/50\n",
      "1875/1875 [==============================] - 10s 5ms/step - loss: 0.0324 - accuracy: 0.9904 - val_loss: 0.0744 - val_accuracy: 0.9795\n",
      "Epoch 7/50\n",
      "1875/1875 [==============================] - 10s 5ms/step - loss: 0.0291 - accuracy: 0.9909 - val_loss: 0.0908 - val_accuracy: 0.9751\n",
      "Epoch 8/50\n",
      "1875/1875 [==============================] - 10s 6ms/step - loss: 0.0251 - accuracy: 0.9923 - val_loss: 0.0755 - val_accuracy: 0.9816\n",
      "Epoch 9/50\n",
      "1875/1875 [==============================] - 10s 5ms/step - loss: 0.0234 - accuracy: 0.9927 - val_loss: 0.0874 - val_accuracy: 0.9801\n",
      "Epoch 10/50\n",
      "1875/1875 [==============================] - 10s 6ms/step - loss: 0.0186 - accuracy: 0.9938 - val_loss: 0.0789 - val_accuracy: 0.9818\n",
      "Epoch 11/50\n",
      "1875/1875 [==============================] - 11s 6ms/step - loss: 0.0182 - accuracy: 0.9944 - val_loss: 0.0786 - val_accuracy: 0.9830\n",
      "Epoch 12/50\n",
      "1875/1875 [==============================] - 11s 6ms/step - loss: 0.0171 - accuracy: 0.9946 - val_loss: 0.1240 - val_accuracy: 0.9770\n",
      "Epoch 13/50\n",
      "1875/1875 [==============================] - 11s 6ms/step - loss: 0.0145 - accuracy: 0.9954 - val_loss: 0.1108 - val_accuracy: 0.9807\n",
      "Epoch 14/50\n",
      "1875/1875 [==============================] - 10s 6ms/step - loss: 0.0170 - accuracy: 0.9948 - val_loss: 0.1144 - val_accuracy: 0.9791\n",
      "Epoch 15/50\n",
      "1875/1875 [==============================] - 10s 6ms/step - loss: 0.0137 - accuracy: 0.9960 - val_loss: 0.0813 - val_accuracy: 0.9821\n",
      "Epoch 16/50\n",
      "1875/1875 [==============================] - 10s 6ms/step - loss: 0.0129 - accuracy: 0.9960 - val_loss: 0.1258 - val_accuracy: 0.9767\n",
      "Epoch 17/50\n",
      "1875/1875 [==============================] - 11s 6ms/step - loss: 0.0144 - accuracy: 0.9963 - val_loss: 0.0965 - val_accuracy: 0.9814\n",
      "Epoch 18/50\n",
      "1875/1875 [==============================] - 11s 6ms/step - loss: 0.0106 - accuracy: 0.9968 - val_loss: 0.1327 - val_accuracy: 0.9790\n",
      "Epoch 19/50\n",
      "1875/1875 [==============================] - 11s 6ms/step - loss: 0.0119 - accuracy: 0.9969 - val_loss: 0.1019 - val_accuracy: 0.9812\n",
      "Epoch 20/50\n",
      "1875/1875 [==============================] - 11s 6ms/step - loss: 0.0126 - accuracy: 0.9965 - val_loss: 0.1207 - val_accuracy: 0.9812\n",
      "Epoch 21/50\n",
      "1875/1875 [==============================] - 11s 6ms/step - loss: 0.0106 - accuracy: 0.9971 - val_loss: 0.1052 - val_accuracy: 0.9823\n",
      "Epoch 22/50\n",
      "1875/1875 [==============================] - 11s 6ms/step - loss: 0.0103 - accuracy: 0.9971 - val_loss: 0.1215 - val_accuracy: 0.9808\n",
      "Epoch 23/50\n",
      "1875/1875 [==============================] - 11s 6ms/step - loss: 0.0110 - accuracy: 0.9969 - val_loss: 0.1279 - val_accuracy: 0.9805\n",
      "Epoch 24/50\n",
      "1875/1875 [==============================] - 12s 6ms/step - loss: 0.0086 - accuracy: 0.9976 - val_loss: 0.1074 - val_accuracy: 0.9831\n",
      "Epoch 25/50\n",
      "1875/1875 [==============================] - 12s 6ms/step - loss: 0.0096 - accuracy: 0.9976 - val_loss: 0.1201 - val_accuracy: 0.9824\n",
      "Epoch 26/50\n",
      "1875/1875 [==============================] - 11s 6ms/step - loss: 0.0103 - accuracy: 0.9975 - val_loss: 0.1373 - val_accuracy: 0.9805\n",
      "Epoch 27/50\n",
      "1875/1875 [==============================] - 11s 6ms/step - loss: 0.0075 - accuracy: 0.9978 - val_loss: 0.1339 - val_accuracy: 0.9816\n",
      "Epoch 28/50\n",
      "1875/1875 [==============================] - 11s 6ms/step - loss: 0.0109 - accuracy: 0.9974 - val_loss: 0.1221 - val_accuracy: 0.9829\n",
      "Epoch 29/50\n",
      "1875/1875 [==============================] - 11s 6ms/step - loss: 0.0117 - accuracy: 0.9976 - val_loss: 0.1217 - val_accuracy: 0.9828\n",
      "Epoch 30/50\n",
      "1875/1875 [==============================] - 11s 6ms/step - loss: 0.0093 - accuracy: 0.9977 - val_loss: 0.1439 - val_accuracy: 0.9811\n",
      "Epoch 31/50\n",
      "1875/1875 [==============================] - 11s 6ms/step - loss: 0.0100 - accuracy: 0.9975 - val_loss: 0.1396 - val_accuracy: 0.9798\n",
      "Epoch 32/50\n",
      "1875/1875 [==============================] - 11s 6ms/step - loss: 0.0075 - accuracy: 0.9980 - val_loss: 0.1381 - val_accuracy: 0.9827\n",
      "Epoch 33/50\n",
      "1875/1875 [==============================] - 11s 6ms/step - loss: 0.0102 - accuracy: 0.9979 - val_loss: 0.1243 - val_accuracy: 0.9827\n",
      "Epoch 34/50\n",
      "1875/1875 [==============================] - 11s 6ms/step - loss: 0.0075 - accuracy: 0.9981 - val_loss: 0.1542 - val_accuracy: 0.9833\n",
      "Epoch 35/50\n",
      "1875/1875 [==============================] - 11s 6ms/step - loss: 0.0113 - accuracy: 0.9977 - val_loss: 0.2219 - val_accuracy: 0.9743\n",
      "Epoch 36/50\n",
      "1875/1875 [==============================] - 11s 6ms/step - loss: 0.0083 - accuracy: 0.9980 - val_loss: 0.1267 - val_accuracy: 0.9836\n",
      "Epoch 37/50\n",
      "1875/1875 [==============================] - 11s 6ms/step - loss: 0.0094 - accuracy: 0.9980 - val_loss: 0.1338 - val_accuracy: 0.9835\n",
      "Epoch 38/50\n",
      "1875/1875 [==============================] - 11s 6ms/step - loss: 0.0089 - accuracy: 0.9980 - val_loss: 0.1379 - val_accuracy: 0.9848\n",
      "Epoch 39/50\n",
      "1875/1875 [==============================] - 11s 6ms/step - loss: 0.0088 - accuracy: 0.9981 - val_loss: 0.1130 - val_accuracy: 0.9858\n",
      "Epoch 40/50\n",
      "1875/1875 [==============================] - 11s 6ms/step - loss: 0.0084 - accuracy: 0.9982 - val_loss: 0.1585 - val_accuracy: 0.9822\n",
      "Epoch 41/50\n",
      "1875/1875 [==============================] - 11s 6ms/step - loss: 0.0077 - accuracy: 0.9982 - val_loss: 0.1635 - val_accuracy: 0.9821\n",
      "Epoch 42/50\n",
      "1875/1875 [==============================] - 11s 6ms/step - loss: 0.0082 - accuracy: 0.9981 - val_loss: 0.1463 - val_accuracy: 0.9825\n",
      "Epoch 43/50\n",
      "1875/1875 [==============================] - 11s 6ms/step - loss: 0.0071 - accuracy: 0.9986 - val_loss: 0.1376 - val_accuracy: 0.9833\n",
      "Epoch 44/50\n",
      "1875/1875 [==============================] - 11s 6ms/step - loss: 0.0109 - accuracy: 0.9979 - val_loss: 0.1573 - val_accuracy: 0.9824\n",
      "Epoch 45/50\n",
      "1875/1875 [==============================] - 11s 6ms/step - loss: 0.0071 - accuracy: 0.9985 - val_loss: 0.1607 - val_accuracy: 0.9834\n",
      "Epoch 46/50\n",
      "1875/1875 [==============================] - 11s 6ms/step - loss: 0.0109 - accuracy: 0.9980 - val_loss: 0.1749 - val_accuracy: 0.9821\n",
      "Epoch 47/50\n",
      "1875/1875 [==============================] - 13s 7ms/step - loss: 0.0073 - accuracy: 0.9985 - val_loss: 0.1905 - val_accuracy: 0.9809\n",
      "Epoch 48/50\n",
      "1875/1875 [==============================] - 11s 6ms/step - loss: 0.0068 - accuracy: 0.9984 - val_loss: 0.1712 - val_accuracy: 0.9836\n",
      "Epoch 49/50\n",
      "1875/1875 [==============================] - 11s 6ms/step - loss: 0.0070 - accuracy: 0.9986 - val_loss: 0.1440 - val_accuracy: 0.9830\n",
      "Epoch 50/50\n",
      "1875/1875 [==============================] - 12s 6ms/step - loss: 0.0059 - accuracy: 0.9989 - val_loss: 0.1914 - val_accuracy: 0.9828\n",
      "> 98.280\n",
      "Accuracy: mean=98.280, std=0.000\n",
      "313/313 [==============================] - 1s 3ms/step\n",
      "The accuracy of Model 0.9802\n",
      "The Precision of Model 0.98029818838061\n",
      "The Recall of Model 0.9802\n",
      "The F1-score of Model 0.9801915976701934\n"
     ]
    }
   ],
   "source": [
    "# Run the test harness for evaluating a model\n",
    "def run_test_harness():\n",
    "    # Load dataset\n",
    "    trainX, trainY, testX, testY = load_dataset()\n",
    "\n",
    "    # Prepare pixel data\n",
    "    trainX, testX = prep_pixels(trainX, testX)\n",
    "\n",
    "    # Evaluate model\n",
    "    return evaluate_model(trainX, trainY, testX, testY)\n",
    "\n",
    "    \n",
    "\n",
    "# Entry point, run the test harness\n",
    "scores = []\n",
    "histories = []\n",
    "scores, histories, history, model1 = run_test_harness()\n",
    "# Summarize estimated performance\n",
    "summarize_performance(scores)\n",
    "\n",
    "test(model1)"
   ]
  },
  {
   "cell_type": "code",
   "execution_count": 711,
   "id": "d8f5edeb",
   "metadata": {},
   "outputs": [
    {
     "data": {
      "text/plain": [
       "<AxesSubplot:>"
      ]
     },
     "execution_count": 711,
     "metadata": {},
     "output_type": "execute_result"
    },
    {
     "data": {
      "image/png": "[encoded data removed]",
      "text/plain": [
       "<Figure size 576x396 with 1 Axes>"
      ]
     },
     "metadata": {},
     "output_type": "display_data"
    }
   ],
   "source": [
    "history1 = pd.DataFrame(history.history)\n",
    "history1.plot()"
   ]
  },
  {
   "cell_type": "code",
   "execution_count": 484,
   "id": "14474ba2",
   "metadata": {},
   "outputs": [
    {
     "name": "stdout",
     "output_type": "stream",
     "text": [
      "              precision    recall  f1-score   support\n",
      "\n",
      "           0       0.99      0.99      0.99       980\n",
      "           1       0.99      0.99      0.99      1135\n",
      "           2       0.98      0.99      0.98      1032\n",
      "           3       0.99      0.98      0.98      1010\n",
      "           4       0.98      0.98      0.98       982\n",
      "           5       0.96      0.98      0.97       892\n",
      "           6       0.99      0.97      0.98       958\n",
      "           7       0.98      0.98      0.98      1028\n",
      "           8       0.98      0.98      0.98       974\n",
      "           9       0.97      0.98      0.97      1009\n",
      "\n",
      "    accuracy                           0.98     10000\n",
      "   macro avg       0.98      0.98      0.98     10000\n",
      "weighted avg       0.98      0.98      0.98     10000\n",
      "\n"
     ]
    }
   ],
   "source": [
    "print(classification_report(y_true_labels, y_pred_labels_model1,target_names=['0','1','2','3','4','5','6','7','8','9']))"
   ]
  },
  {
   "cell_type": "markdown",
   "id": "3c9f7785",
   "metadata": {},
   "source": [
    " <h3  style = \"background-color:blue;color:yellow;\" > Model 2 ( Activation functions: ELU)</h3> "
   ]
  },
  {
   "cell_type": "code",
   "execution_count": 8,
   "id": "4651c1ec",
   "metadata": {},
   "outputs": [],
   "source": [
    "from tensorflow.keras.models import Sequential"
   ]
  },
  {
   "cell_type": "code",
   "execution_count": 9,
   "id": "6b98bf1c",
   "metadata": {},
   "outputs": [],
   "source": [
    "from tensorflow.keras.layers import Dense, Activation\n",
    "from tensorflow.keras.optimizers import Adam\n",
    "from tensorflow.keras.losses import CategoricalCrossentropy\n",
    "from tensorflow.keras.utils import to_categorical"
   ]
  },
  {
   "cell_type": "code",
   "execution_count": 533,
   "id": "9ef55232",
   "metadata": {
    "scrolled": true
   },
   "outputs": [
    {
     "name": "stdout",
     "output_type": "stream",
     "text": [
      "Epoch 1/50\n",
      "1875/1875 [==============================] - 18s 9ms/step - loss: 0.2211 - accuracy: 0.9319 - val_loss: 0.1569 - val_accuracy: 0.9500\n",
      "Epoch 2/50\n",
      "1875/1875 [==============================] - 16s 8ms/step - loss: 0.1140 - accuracy: 0.9647 - val_loss: 0.1070 - val_accuracy: 0.9656\n",
      "Epoch 3/50\n",
      "1875/1875 [==============================] - 15s 8ms/step - loss: 0.0852 - accuracy: 0.9736 - val_loss: 0.1017 - val_accuracy: 0.9688\n",
      "Epoch 4/50\n",
      "1875/1875 [==============================] - 15s 8ms/step - loss: 0.0666 - accuracy: 0.9788 - val_loss: 0.0939 - val_accuracy: 0.9747\n",
      "Epoch 5/50\n",
      "1875/1875 [==============================] - 15s 8ms/step - loss: 0.0570 - accuracy: 0.9825 - val_loss: 0.0889 - val_accuracy: 0.9751\n",
      "Epoch 6/50\n",
      "1875/1875 [==============================] - 15s 8ms/step - loss: 0.0486 - accuracy: 0.9847 - val_loss: 0.0811 - val_accuracy: 0.9790\n",
      "Epoch 7/50\n",
      "1875/1875 [==============================] - 15s 8ms/step - loss: 0.0442 - accuracy: 0.9865 - val_loss: 0.1058 - val_accuracy: 0.9771\n",
      "Epoch 8/50\n",
      "1875/1875 [==============================] - 14s 8ms/step - loss: 0.0422 - accuracy: 0.9878 - val_loss: 0.0860 - val_accuracy: 0.9795\n",
      "Epoch 9/50\n",
      "1875/1875 [==============================] - 15s 8ms/step - loss: 0.0331 - accuracy: 0.9900 - val_loss: 0.1196 - val_accuracy: 0.9749\n",
      "Epoch 10/50\n",
      "1875/1875 [==============================] - 15s 8ms/step - loss: 0.0342 - accuracy: 0.9902 - val_loss: 0.1047 - val_accuracy: 0.9773\n",
      "Epoch 11/50\n",
      "1875/1875 [==============================] - 16s 8ms/step - loss: 0.0314 - accuracy: 0.9904 - val_loss: 0.1146 - val_accuracy: 0.9783\n",
      "Epoch 12/50\n",
      "1875/1875 [==============================] - 15s 8ms/step - loss: 0.0280 - accuracy: 0.9921 - val_loss: 0.1044 - val_accuracy: 0.9769\n",
      "Epoch 13/50\n",
      "1875/1875 [==============================] - 15s 8ms/step - loss: 0.0263 - accuracy: 0.9927 - val_loss: 0.0965 - val_accuracy: 0.9823\n",
      "Epoch 14/50\n",
      "1875/1875 [==============================] - 16s 9ms/step - loss: 0.0264 - accuracy: 0.9924 - val_loss: 0.1060 - val_accuracy: 0.9809\n",
      "Epoch 15/50\n",
      "1875/1875 [==============================] - 15s 8ms/step - loss: 0.0275 - accuracy: 0.9923 - val_loss: 0.1257 - val_accuracy: 0.9754\n",
      "Epoch 16/50\n",
      "1875/1875 [==============================] - 15s 8ms/step - loss: 0.0224 - accuracy: 0.9938 - val_loss: 0.1116 - val_accuracy: 0.9800\n",
      "Epoch 17/50\n",
      "1875/1875 [==============================] - 15s 8ms/step - loss: 0.0224 - accuracy: 0.9941 - val_loss: 0.1466 - val_accuracy: 0.9788\n",
      "Epoch 18/50\n",
      "1875/1875 [==============================] - 16s 8ms/step - loss: 0.0239 - accuracy: 0.9939 - val_loss: 0.1256 - val_accuracy: 0.9812\n",
      "Epoch 19/50\n",
      "1875/1875 [==============================] - 17s 9ms/step - loss: 0.0198 - accuracy: 0.9946 - val_loss: 0.1308 - val_accuracy: 0.9786\n",
      "Epoch 20/50\n",
      "1875/1875 [==============================] - 18s 10ms/step - loss: 0.0221 - accuracy: 0.9943 - val_loss: 0.1741 - val_accuracy: 0.9780\n",
      "Epoch 21/50\n",
      "1875/1875 [==============================] - 18s 10ms/step - loss: 0.0191 - accuracy: 0.9951 - val_loss: 0.1570 - val_accuracy: 0.9772\n",
      "Epoch 22/50\n",
      "1875/1875 [==============================] - 18s 10ms/step - loss: 0.0175 - accuracy: 0.9954 - val_loss: 0.1504 - val_accuracy: 0.9768\n",
      "Epoch 23/50\n",
      "1875/1875 [==============================] - 18s 9ms/step - loss: 0.0222 - accuracy: 0.9945 - val_loss: 0.1438 - val_accuracy: 0.9790\n",
      "Epoch 24/50\n",
      "1875/1875 [==============================] - 16s 9ms/step - loss: 0.0186 - accuracy: 0.9953 - val_loss: 0.1586 - val_accuracy: 0.9765\n",
      "Epoch 25/50\n",
      "1875/1875 [==============================] - 15s 8ms/step - loss: 0.0210 - accuracy: 0.9952 - val_loss: 0.1204 - val_accuracy: 0.9786\n",
      "Epoch 26/50\n",
      "1875/1875 [==============================] - 15s 8ms/step - loss: 0.0150 - accuracy: 0.9961 - val_loss: 0.1829 - val_accuracy: 0.9796\n",
      "Epoch 27/50\n",
      "1875/1875 [==============================] - 15s 8ms/step - loss: 0.0207 - accuracy: 0.9949 - val_loss: 0.1582 - val_accuracy: 0.9794\n",
      "Epoch 28/50\n",
      "1875/1875 [==============================] - 16s 8ms/step - loss: 0.0163 - accuracy: 0.9960 - val_loss: 0.1380 - val_accuracy: 0.9818\n",
      "Epoch 29/50\n",
      "1875/1875 [==============================] - 15s 8ms/step - loss: 0.0149 - accuracy: 0.9964 - val_loss: 0.1380 - val_accuracy: 0.9810\n",
      "Epoch 30/50\n",
      "1875/1875 [==============================] - 17s 9ms/step - loss: 0.0188 - accuracy: 0.9958 - val_loss: 0.1626 - val_accuracy: 0.9793\n",
      "Epoch 31/50\n",
      "1875/1875 [==============================] - 16s 9ms/step - loss: 0.0147 - accuracy: 0.9967 - val_loss: 0.1733 - val_accuracy: 0.9818\n",
      "Epoch 32/50\n",
      "1875/1875 [==============================] - 15s 8ms/step - loss: 0.0198 - accuracy: 0.9956 - val_loss: 0.1828 - val_accuracy: 0.9784\n",
      "Epoch 33/50\n",
      "1875/1875 [==============================] - 15s 8ms/step - loss: 0.0176 - accuracy: 0.9963 - val_loss: 0.2036 - val_accuracy: 0.9792\n",
      "Epoch 34/50\n",
      "1875/1875 [==============================] - 15s 8ms/step - loss: 0.0150 - accuracy: 0.9965 - val_loss: 0.1746 - val_accuracy: 0.9805\n",
      "Epoch 35/50\n",
      "1875/1875 [==============================] - 16s 9ms/step - loss: 0.0213 - accuracy: 0.9959 - val_loss: 0.2037 - val_accuracy: 0.9796\n",
      "Epoch 36/50\n",
      "1875/1875 [==============================] - 16s 8ms/step - loss: 0.0150 - accuracy: 0.9972 - val_loss: 0.1578 - val_accuracy: 0.9820\n",
      "Epoch 37/50\n",
      "1875/1875 [==============================] - 16s 8ms/step - loss: 0.0225 - accuracy: 0.9956 - val_loss: 0.1801 - val_accuracy: 0.9815\n",
      "Epoch 38/50\n",
      "1875/1875 [==============================] - 17s 9ms/step - loss: 0.0119 - accuracy: 0.9970 - val_loss: 0.1716 - val_accuracy: 0.9827\n",
      "Epoch 39/50\n",
      "1875/1875 [==============================] - 16s 9ms/step - loss: 0.0175 - accuracy: 0.9966 - val_loss: 0.2183 - val_accuracy: 0.9793\n",
      "Epoch 40/50\n",
      "1875/1875 [==============================] - 17s 9ms/step - loss: 0.0114 - accuracy: 0.9969 - val_loss: 0.2304 - val_accuracy: 0.9809\n",
      "Epoch 41/50\n",
      "1875/1875 [==============================] - 15s 8ms/step - loss: 0.0131 - accuracy: 0.9971 - val_loss: 0.2326 - val_accuracy: 0.9802\n",
      "Epoch 42/50\n",
      "1875/1875 [==============================] - 16s 9ms/step - loss: 0.0155 - accuracy: 0.9970 - val_loss: 0.2299 - val_accuracy: 0.9796\n",
      "Epoch 43/50\n",
      "1875/1875 [==============================] - 16s 9ms/step - loss: 0.0164 - accuracy: 0.9970 - val_loss: 0.2473 - val_accuracy: 0.9798\n",
      "Epoch 44/50\n",
      "1875/1875 [==============================] - 15s 8ms/step - loss: 0.0181 - accuracy: 0.9971 - val_loss: 0.2213 - val_accuracy: 0.9799\n",
      "Epoch 45/50\n",
      "1875/1875 [==============================] - 15s 8ms/step - loss: 0.0138 - accuracy: 0.9969 - val_loss: 0.2768 - val_accuracy: 0.9793\n",
      "Epoch 46/50\n",
      "1875/1875 [==============================] - 15s 8ms/step - loss: 0.0147 - accuracy: 0.9974 - val_loss: 0.2133 - val_accuracy: 0.9825\n",
      "Epoch 47/50\n",
      "1875/1875 [==============================] - 16s 8ms/step - loss: 0.0154 - accuracy: 0.9974 - val_loss: 0.2163 - val_accuracy: 0.9786\n",
      "Epoch 48/50\n",
      "1875/1875 [==============================] - 17s 9ms/step - loss: 0.0162 - accuracy: 0.9973 - val_loss: 0.2207 - val_accuracy: 0.9828\n",
      "Epoch 49/50\n",
      "1875/1875 [==============================] - 15s 8ms/step - loss: 0.0144 - accuracy: 0.9976 - val_loss: 0.3068 - val_accuracy: 0.9773\n",
      "Epoch 50/50\n",
      "1875/1875 [==============================] - 17s 9ms/step - loss: 0.0130 - accuracy: 0.9976 - val_loss: 0.2432 - val_accuracy: 0.9810\n",
      "313/313 [==============================] - 2s 5ms/step - loss: 0.2432 - accuracy: 0.9810\n",
      "Model 2 - Test Loss: 0.24320869147777557\n",
      "Model 2 - Test Accuracy: 0.9810000061988831\n"
     ]
    }
   ],
   "source": [
    "# Define the second DNN model\n",
    "model2 = Sequential([\n",
    "    Dense(500, input_shape=(784,)),\n",
    "    Activation('elu'),\n",
    "    Dense(250),\n",
    "    Activation('elu'),\n",
    "    Dense(100),\n",
    "    Activation('elu'),\n",
    "    Dense(10, activation='softmax')\n",
    "])\n",
    "\n",
    "# Compile the second model\n",
    "model2.compile(optimizer=Adam(), loss=CategoricalCrossentropy(), metrics=['accuracy'])\n",
    "\n",
    "# Train the second model\n",
    "batch_size = 32  # You can choose 16, 32, or 64\n",
    "epochs = 50\n",
    "model2.fit(x_train, y_train, batch_size=batch_size, epochs=epochs, validation_data=(x_test, y_test))\n",
    "\n",
    "# Evaluate the first model\n",
    "loss, accuracy = model2.evaluate(x_test, y_test)\n",
    "print(\"Model 2 - Test Loss:\", loss)\n",
    "print(\"Model 2 - Test Accuracy:\", accuracy)\n"
   ]
  },
  {
   "cell_type": "code",
   "execution_count": 534,
   "id": "4932ca9c",
   "metadata": {
    "scrolled": true
   },
   "outputs": [
    {
     "name": "stdout",
     "output_type": "stream",
     "text": [
      "313/313 [==============================] - 2s 5ms/step\n",
      "The accuracy of Model2 0.981\n",
      "The Precision of Model2 0.981052890469699\n",
      "The Recall of Model2 0.981\n",
      "The F1-score of Model2 0.9809923354992265\n"
     ]
    }
   ],
   "source": [
    "#### Evaluate the second model\n",
    "y_pred_model2 = model2.predict(x_test)\n",
    "y_pred_labels_model2 = np.argmax(y_pred_model2, axis=1)\n",
    "y_true_labels = np.argmax(y_test, axis=1)\n",
    "\n",
    "accuracy_model2 = accuracy_score(y_true_labels, y_pred_labels_model2)\n",
    "print(\"The accuracy of Model2\", accuracy_model2)\n",
    "\n",
    "\n",
    "precision_model2 = precision_score(y_true_labels, y_pred_labels_model2, average='weighted')\n",
    "print(\"The Precision of Model2\",precision_model2)\n",
    "\n",
    "recall_model2 = recall_score(y_true_labels, y_pred_labels_model2, average='weighted')\n",
    "print(\"The Recall of Model2\",recall_model2)\n",
    "\n",
    "f1_score_model2 = f1_score(y_true_labels, y_pred_labels_model2, average='weighted')\n",
    "print(\"The F1-score of Model2\",f1_score_model2)"
   ]
  },
  {
   "cell_type": "code",
   "execution_count": 486,
   "id": "a6d462cf",
   "metadata": {},
   "outputs": [
    {
     "name": "stdout",
     "output_type": "stream",
     "text": [
      "              precision    recall  f1-score   support\n",
      "\n",
      "           0       0.99      0.98      0.99       980\n",
      "           1       0.99      0.99      0.99      1135\n",
      "           2       0.98      0.98      0.98      1032\n",
      "           3       0.97      0.99      0.98      1010\n",
      "           4       0.99      0.98      0.98       982\n",
      "           5       0.99      0.95      0.97       892\n",
      "           6       0.98      0.99      0.98       958\n",
      "           7       0.99      0.96      0.98      1028\n",
      "           8       0.95      0.99      0.97       974\n",
      "           9       0.98      0.98      0.98      1009\n",
      "\n",
      "    accuracy                           0.98     10000\n",
      "   macro avg       0.98      0.98      0.98     10000\n",
      "weighted avg       0.98      0.98      0.98     10000\n",
      "\n"
     ]
    }
   ],
   "source": [
    "print(classification_report(y_true_labels, y_pred_labels_model2,target_names=['0','1','2','3','4','5','6','7','8','9']))"
   ]
  },
  {
   "cell_type": "code",
   "execution_count": 547,
   "id": "b3697575",
   "metadata": {},
   "outputs": [],
   "source": [
    "# Compute the ROC curve for each class (since it's a multi-class problem)\n",
    "fpr = dict()\n",
    "tpr = dict()\n",
    "roc_auc = dict()\n",
    "\n",
    "# Number of classes\n",
    "num_classes = 10\n",
    "\n",
    "for i in range(num_classes):\n",
    "    fpr[i], tpr[i], _ = roc_curve(y_test[:, i], y_pred_model2[:, i])\n",
    "    roc_auc[i] = auc(fpr[i], tpr[i])\n"
   ]
  },
  {
   "cell_type": "code",
   "execution_count": 548,
   "id": "6f08e809",
   "metadata": {},
   "outputs": [
    {
     "data": {
      "image/png": "[encoded data removed]",
      "text/plain": [
       "<Figure size 576x432 with 1 Axes>"
      ]
     },
     "metadata": {},
     "output_type": "display_data"
    }
   ],
   "source": [
    "# Plot the ROC curves\n",
    "plt.figure(figsize=(8, 6))\n",
    "for i in range(num_classes):\n",
    "    plt.plot(fpr[i], tpr[i], lw=2, label='ROC curve (area = %0.2f) for class %d' % (roc_auc[i], i))\n",
    "\n",
    "plt.plot([0, 1], [0, 1], color='gray', lw=2, linestyle='--')\n",
    "plt.xlim([0.0, 1.0])\n",
    "plt.ylim([0.0, 1.0])\n",
    "plt.xlabel('False Positive Rate (FPR)')\n",
    "plt.ylabel('True Positive Rate (TPR)')\n",
    "plt.title('ROC Curve for Fashion MNIST')\n",
    "plt.legend(loc='lower right')\n",
    "plt.show()\n"
   ]
  },
  {
   "cell_type": "code",
   "execution_count": 541,
   "id": "0c51304f",
   "metadata": {
    "scrolled": false
   },
   "outputs": [
    {
     "name": "stdout",
     "output_type": "stream",
     "text": [
      "Epoch 1/50\n",
      "1875/1875 [==============================] - 16s 8ms/step - loss: 0.0180 - accuracy: 0.9969 - val_loss: 0.2705 - val_accuracy: 0.9806\n",
      "Epoch 2/50\n",
      "1875/1875 [==============================] - 16s 8ms/step - loss: 0.0117 - accuracy: 0.9974 - val_loss: 0.2402 - val_accuracy: 0.9808\n",
      "Epoch 3/50\n",
      "1875/1875 [==============================] - 16s 8ms/step - loss: 0.0132 - accuracy: 0.9977 - val_loss: 0.3108 - val_accuracy: 0.9802\n",
      "Epoch 4/50\n",
      "1875/1875 [==============================] - 16s 8ms/step - loss: 0.0125 - accuracy: 0.9977 - val_loss: 0.2832 - val_accuracy: 0.9793\n",
      "Epoch 5/50\n",
      "1875/1875 [==============================] - 16s 8ms/step - loss: 0.0173 - accuracy: 0.9970 - val_loss: 0.3615 - val_accuracy: 0.9821\n",
      "Epoch 6/50\n",
      "1875/1875 [==============================] - 17s 9ms/step - loss: 0.0132 - accuracy: 0.9977 - val_loss: 0.2770 - val_accuracy: 0.9800\n",
      "Epoch 7/50\n",
      "1875/1875 [==============================] - 17s 9ms/step - loss: 0.0159 - accuracy: 0.9975 - val_loss: 0.3069 - val_accuracy: 0.9800\n",
      "Epoch 8/50\n",
      "1875/1875 [==============================] - 15s 8ms/step - loss: 0.0099 - accuracy: 0.9980 - val_loss: 0.2922 - val_accuracy: 0.9816\n",
      "Epoch 9/50\n",
      "1875/1875 [==============================] - 15s 8ms/step - loss: 0.0158 - accuracy: 0.9977 - val_loss: 0.2738 - val_accuracy: 0.9815\n",
      "Epoch 10/50\n",
      "1875/1875 [==============================] - 15s 8ms/step - loss: 0.0109 - accuracy: 0.9980 - val_loss: 0.2745 - val_accuracy: 0.9792\n",
      "Epoch 11/50\n",
      "1875/1875 [==============================] - 16s 8ms/step - loss: 0.0119 - accuracy: 0.9979 - val_loss: 0.2930 - val_accuracy: 0.9777\n",
      "Epoch 12/50\n",
      "1875/1875 [==============================] - 15s 8ms/step - loss: 0.0158 - accuracy: 0.9974 - val_loss: 0.3009 - val_accuracy: 0.9754\n",
      "Epoch 13/50\n",
      "1875/1875 [==============================] - 16s 8ms/step - loss: 0.0189 - accuracy: 0.9970 - val_loss: 0.2566 - val_accuracy: 0.9798\n",
      "Epoch 14/50\n",
      "1875/1875 [==============================] - 16s 8ms/step - loss: 0.0097 - accuracy: 0.9982 - val_loss: 0.3004 - val_accuracy: 0.9785\n",
      "Epoch 15/50\n",
      "1875/1875 [==============================] - 16s 8ms/step - loss: 0.0209 - accuracy: 0.9983 - val_loss: 0.2970 - val_accuracy: 0.9797\n",
      "Epoch 16/50\n",
      "1875/1875 [==============================] - 16s 8ms/step - loss: 0.0161 - accuracy: 0.9976 - val_loss: 0.2160 - val_accuracy: 0.9807\n",
      "Epoch 17/50\n",
      "1875/1875 [==============================] - 15s 8ms/step - loss: 0.0081 - accuracy: 0.9983 - val_loss: 0.2196 - val_accuracy: 0.9821\n",
      "Epoch 18/50\n",
      "1875/1875 [==============================] - 16s 8ms/step - loss: 0.0100 - accuracy: 0.9983 - val_loss: 0.2642 - val_accuracy: 0.9823\n",
      "Epoch 19/50\n",
      "1875/1875 [==============================] - 16s 9ms/step - loss: 0.0139 - accuracy: 0.9976 - val_loss: 0.2414 - val_accuracy: 0.9822\n",
      "Epoch 20/50\n",
      "1875/1875 [==============================] - 16s 8ms/step - loss: 0.0115 - accuracy: 0.9984 - val_loss: 0.3132 - val_accuracy: 0.9813\n",
      "Epoch 21/50\n",
      "1875/1875 [==============================] - 15s 8ms/step - loss: 0.0103 - accuracy: 0.9982 - val_loss: 0.3403 - val_accuracy: 0.9787\n",
      "Epoch 22/50\n",
      "1875/1875 [==============================] - 16s 8ms/step - loss: 0.0118 - accuracy: 0.9980 - val_loss: 0.4567 - val_accuracy: 0.9771\n",
      "Epoch 23/50\n",
      "1875/1875 [==============================] - 16s 9ms/step - loss: 0.0191 - accuracy: 0.9972 - val_loss: 0.2812 - val_accuracy: 0.9826\n",
      "Epoch 24/50\n",
      "1875/1875 [==============================] - 18s 9ms/step - loss: 0.0107 - accuracy: 0.9984 - val_loss: 0.2488 - val_accuracy: 0.9841\n",
      "Epoch 25/50\n",
      "1875/1875 [==============================] - 17s 9ms/step - loss: 0.0094 - accuracy: 0.9984 - val_loss: 0.2864 - val_accuracy: 0.9828\n",
      "Epoch 26/50\n",
      "1875/1875 [==============================] - 18s 10ms/step - loss: 0.0167 - accuracy: 0.9978 - val_loss: 0.2642 - val_accuracy: 0.9826\n",
      "Epoch 27/50\n",
      "1875/1875 [==============================] - 18s 9ms/step - loss: 0.0108 - accuracy: 0.9985 - val_loss: 0.3019 - val_accuracy: 0.9829\n",
      "Epoch 28/50\n",
      "1875/1875 [==============================] - 17s 9ms/step - loss: 0.0102 - accuracy: 0.9985 - val_loss: 0.3584 - val_accuracy: 0.9804\n",
      "Epoch 29/50\n",
      "1875/1875 [==============================] - 16s 8ms/step - loss: 0.0126 - accuracy: 0.9982 - val_loss: 0.3619 - val_accuracy: 0.9820\n",
      "Epoch 30/50\n",
      "1875/1875 [==============================] - 16s 9ms/step - loss: 0.0139 - accuracy: 0.9981 - val_loss: 0.4601 - val_accuracy: 0.9813\n",
      "Epoch 31/50\n",
      "1875/1875 [==============================] - 16s 8ms/step - loss: 0.0131 - accuracy: 0.9981 - val_loss: 0.4564 - val_accuracy: 0.9807\n",
      "Epoch 32/50\n",
      "1875/1875 [==============================] - 16s 8ms/step - loss: 0.0086 - accuracy: 0.9988 - val_loss: 0.4807 - val_accuracy: 0.9779\n",
      "Epoch 33/50\n",
      "1875/1875 [==============================] - 16s 8ms/step - loss: 0.0129 - accuracy: 0.9979 - val_loss: 0.3636 - val_accuracy: 0.9807\n",
      "Epoch 34/50\n",
      "1875/1875 [==============================] - 16s 8ms/step - loss: 0.0078 - accuracy: 0.9986 - val_loss: 0.3496 - val_accuracy: 0.9807\n",
      "Epoch 35/50\n",
      "1875/1875 [==============================] - 15s 8ms/step - loss: 0.0150 - accuracy: 0.9982 - val_loss: 0.3737 - val_accuracy: 0.9806\n",
      "Epoch 36/50\n",
      "1875/1875 [==============================] - 16s 8ms/step - loss: 0.0145 - accuracy: 0.9981 - val_loss: 0.3224 - val_accuracy: 0.9806\n",
      "Epoch 37/50\n",
      "1875/1875 [==============================] - 16s 8ms/step - loss: 0.0130 - accuracy: 0.9984 - val_loss: 0.3152 - val_accuracy: 0.9817\n",
      "Epoch 38/50\n",
      "1875/1875 [==============================] - 16s 8ms/step - loss: 0.0101 - accuracy: 0.9986 - val_loss: 0.3915 - val_accuracy: 0.9810\n",
      "Epoch 39/50\n",
      "1875/1875 [==============================] - 16s 9ms/step - loss: 0.0121 - accuracy: 0.9984 - val_loss: 0.3731 - val_accuracy: 0.9797\n",
      "Epoch 40/50\n",
      "1875/1875 [==============================] - 17s 9ms/step - loss: 0.0097 - accuracy: 0.9986 - val_loss: 0.3827 - val_accuracy: 0.9840\n",
      "Epoch 41/50\n",
      "1875/1875 [==============================] - 17s 9ms/step - loss: 0.0162 - accuracy: 0.9982 - val_loss: 0.3655 - val_accuracy: 0.9798\n",
      "Epoch 42/50\n",
      "1875/1875 [==============================] - 17s 9ms/step - loss: 0.0136 - accuracy: 0.9979 - val_loss: 0.3146 - val_accuracy: 0.9814\n",
      "Epoch 43/50\n",
      "1875/1875 [==============================] - 17s 9ms/step - loss: 0.0150 - accuracy: 0.9983 - val_loss: 0.2883 - val_accuracy: 0.9823\n",
      "Epoch 44/50\n",
      "1875/1875 [==============================] - 17s 9ms/step - loss: 0.0106 - accuracy: 0.9983 - val_loss: 0.4350 - val_accuracy: 0.9812\n",
      "Epoch 45/50\n",
      "1875/1875 [==============================] - 18s 9ms/step - loss: 0.0130 - accuracy: 0.9986 - val_loss: 0.3868 - val_accuracy: 0.9823\n",
      "Epoch 46/50\n",
      "1875/1875 [==============================] - 17s 9ms/step - loss: 0.0216 - accuracy: 0.9984 - val_loss: 0.4366 - val_accuracy: 0.9809\n",
      "Epoch 47/50\n",
      "1875/1875 [==============================] - 17s 9ms/step - loss: 0.0075 - accuracy: 0.9987 - val_loss: 0.4152 - val_accuracy: 0.9795\n",
      "Epoch 48/50\n",
      "1875/1875 [==============================] - 18s 9ms/step - loss: 0.0146 - accuracy: 0.9978 - val_loss: 0.3434 - val_accuracy: 0.9822\n",
      "Epoch 49/50\n",
      "1875/1875 [==============================] - 17s 9ms/step - loss: 0.0068 - accuracy: 0.9990 - val_loss: 0.3628 - val_accuracy: 0.9806\n",
      "Epoch 50/50\n",
      "1875/1875 [==============================] - 17s 9ms/step - loss: 0.0137 - accuracy: 0.9980 - val_loss: 0.4657 - val_accuracy: 0.9803\n"
     ]
    }
   ],
   "source": [
    " history2 = model2.fit(x_train, y_train, batch_size=32, epochs=50, validation_data=(x_test, y_test))"
   ]
  },
  {
   "cell_type": "code",
   "execution_count": 573,
   "id": "36541e15",
   "metadata": {},
   "outputs": [
    {
     "data": {
      "text/plain": [
       "<AxesSubplot:>"
      ]
     },
     "execution_count": 573,
     "metadata": {},
     "output_type": "execute_result"
    },
    {
     "data": {
      "image/png": "[encoded data removed]",
      "text/plain": [
       "<Figure size 576x396 with 1 Axes>"
      ]
     },
     "metadata": {},
     "output_type": "display_data"
    }
   ],
   "source": [
    "import pandas as pd\n",
    "\n",
    "loss_model2 = pd.DataFrame(history2.history)\n",
    "loss_model2.plot()"
   ]
  },
  {
   "cell_type": "markdown",
   "id": "9dfd3a09",
   "metadata": {},
   "source": [
    "### Task 03"
   ]
  },
  {
   "cell_type": "markdown",
   "id": "ca551b64",
   "metadata": {},
   "source": [
    "* Design and evaluate Deep Convolutional Neural Network (DCNN) model task considering the\n",
    "following criteria for facial expression recognition"
   ]
  },
  {
   "cell_type": "code",
   "execution_count": 425,
   "id": "d7859c9f",
   "metadata": {},
   "outputs": [],
   "source": [
    "import numpy as np # linear algebra\n",
    "import pandas as pd # data processing, CSV file I/O (e.g. pd.read_csv)\n",
    "import os\n",
    "import matplotlib.pyplot as plt\n",
    "import seaborn as sns"
   ]
  },
  {
   "cell_type": "code",
   "execution_count": 426,
   "id": "df9f0d54",
   "metadata": {},
   "outputs": [],
   "source": [
    "from tensorflow.keras.utils import load_img\n",
    "from keras.preprocessing.image import ImageDataGenerator\n",
    "from keras.layers import Dense, Input, Dropout, GlobalAveragePooling2D\n",
    "from keras.layers import Flatten\n",
    "from keras.layers import Conv1D, Conv2D, Conv3D\n",
    "from keras.layers import BatchNormalization\n",
    "from keras.layers import Activation\n",
    "from keras.layers import MaxPooling2D, AveragePooling2D\n",
    "from keras.models import Model, Sequential\n",
    "#from tensorflow.python.keras.optimizer_v2.adam import Adam\n",
    "#from keras.optimizers import adam_v2\n",
    "from tensorflow.keras.optimizers import RMSprop\n",
    "#from keras.optimizers import rmsprop\n",
    "from tensorflow.keras.optimizers import SGD\n",
    "from tensorflow.keras.optimizers import Adam\n",
    "#, SGD,RMSpro"
   ]
  },
  {
   "cell_type": "code",
   "execution_count": 427,
   "id": "512bd42d",
   "metadata": {},
   "outputs": [],
   "source": [
    "picture_size = 48\n",
    "folder_path_train = \"D:/DATA_SCIENCE_MASTERS/Code/Training/\""
   ]
  },
  {
   "cell_type": "code",
   "execution_count": 428,
   "id": "a598f069",
   "metadata": {},
   "outputs": [],
   "source": [
    "picture_size = 48\n",
    "folder_path_test = \"D:/DATA_SCIENCE_MASTERS/Code/Testing/\""
   ]
  },
  {
   "cell_type": "code",
   "execution_count": 429,
   "id": "f4b61e61",
   "metadata": {
    "scrolled": true
   },
   "outputs": [
    {
     "data": {
      "image/png": "[encoded data removed]",
      "text/plain": [
       "<Figure size 864x864 with 9 Axes>"
      ]
     },
     "metadata": {},
     "output_type": "display_data"
    }
   ],
   "source": [
    "expression = 'happy'\n",
    "\n",
    "plt.figure(figsize= (12,12))\n",
    "for i in range(1, 10, 1):\n",
    "    plt.subplot(3,3,i)\n",
    "    img = load_img(folder_path+\"/\"+expression+\"/\"+\n",
    "                  os.listdir(folder_path + \"/\" + expression)[i], target_size=(picture_size, picture_size))\n",
    "    plt.imshow(img)   \n",
    "plt.show()\n"
   ]
  },
  {
   "cell_type": "code",
   "execution_count": 441,
   "id": "6b4626f2",
   "metadata": {},
   "outputs": [],
   "source": [
    "tf = ImageDataGenerator(\n",
    "    rescale=1./255,          # Rescale pixel values to [0, 1]\n",
    "    rotation_range=10,       # Randomly rotate images by 10 degrees\n",
    "    width_shift_range=0.1,   # Randomly shift the width of images by 10%\n",
    "    height_shift_range=0.1,  # Randomly shift the height of images by 10%\n",
    "    shear_range=0.2,         # Apply shear transformation with maximum shear of 20%\n",
    "    zoom_range=0.2,          # Randomly zoom into images by 20%\n",
    "    horizontal_flip=True,    # Randomly flip images horizontally\n",
    "    fill_mode='nearest'      # Fill any newly created pixels after rotation or shifting\n",
    ")\n"
   ]
  },
  {
   "cell_type": "code",
   "execution_count": 442,
   "id": "8b9e44d3",
   "metadata": {},
   "outputs": [
    {
     "name": "stdout",
     "output_type": "stream",
     "text": [
      "Found 28273 files belonging to 6 classes.\n",
      "Using 5655 files for training.\n",
      "Found 28273 files belonging to 6 classes.\n",
      "Using 5654 files for validation.\n",
      "(64, 48, 48, 1) (64, 6)\n"
     ]
    }
   ],
   "source": [
    "import tensorflow as tf\n",
    "\n",
    "train_dataset = tf.keras.utils.image_dataset_from_directory(\n",
    "  'Training',\n",
    "  validation_split=0.8,\n",
    "  subset=\"training\",\n",
    "  seed=123,\n",
    "  image_size=(48, 48),\n",
    "  batch_size=64,\n",
    "  class_names= ['Angry', 'Fear', 'Happy', 'Neutral', 'Sad', 'Suprise'], \n",
    "  color_mode=\"grayscale\",\n",
    "  label_mode='categorical')\n",
    "\n",
    "\n",
    "\n",
    "validataion_dataset = tf.keras.utils.image_dataset_from_directory(\n",
    "  'Training',\n",
    "  validation_split=0.2,\n",
    "  subset=\"validation\",\n",
    "  seed=123,\n",
    "  image_size=(48, 48),\n",
    "  batch_size=64,\n",
    "  class_names= ['Angry', 'Fear', 'Happy', 'Neutral', 'Sad', 'Suprise'],\n",
    "  color_mode=\"grayscale\",\n",
    "  label_mode='categorical')\n",
    "\n",
    "\n",
    "\n",
    "for x, y in train_dataset.take(1):\n",
    "    print(x.shape, y.shape)\n",
    "\n",
    "    "
   ]
  },
  {
   "cell_type": "code",
   "execution_count": 446,
   "id": "582fc88f",
   "metadata": {},
   "outputs": [],
   "source": [
    "# Set the path to your training dataset\n",
    "train_data_dir = 'Training'"
   ]
  },
  {
   "cell_type": "code",
   "execution_count": 448,
   "id": "31cbdfe3",
   "metadata": {},
   "outputs": [],
   "source": [
    "# Set the desired input image size\n",
    "input_size = (48, 48)\n",
    "\n",
    "# Set the batch size\n",
    "batch_size = 64\n"
   ]
  },
  {
   "cell_type": "code",
   "execution_count": 450,
   "id": "51b61e2a",
   "metadata": {},
   "outputs": [
    {
     "name": "stdout",
     "output_type": "stream",
     "text": [
      "Found 28273 images belonging to 6 classes.\n",
      "Found 28273 files belonging to 6 classes.\n",
      "Using 5654 files for validation.\n"
     ]
    }
   ],
   "source": [
    "# Create an ImageDataGenerator instance for data augmentation\n",
    "train_datagen = ImageDataGenerator(\n",
    "    rescale=1./255,          # Rescale pixel values to [0, 1]\n",
    "    rotation_range=10,       # Randomly rotate images by 10 degrees\n",
    "    width_shift_range=0.1,   # Randomly shift the width of images by 10%\n",
    "    height_shift_range=0.1,  # Randomly shift the height of images by 10%\n",
    "    shear_range=0.2,         # Apply shear transformation with maximum shear of 20%\n",
    "    zoom_range=0.2,          # Randomly zoom into images by 20%\n",
    "    horizontal_flip=True,    # Randomly flip images horizontally\n",
    "    fill_mode='nearest'      # Fill any newly created pixels after rotation or shifting\n",
    ")\n",
    "\n",
    "# Load and augment the training dataset using the ImageDataGenerator\n",
    "train_dataset = train_datagen.flow_from_directory(\n",
    "    train_data_dir,\n",
    "    target_size=input_size,\n",
    "    batch_size=batch_size,\n",
    "    class_mode='categorical',\n",
    "    color_mode='grayscale',\n",
    "    shuffle=True\n",
    ")\n",
    "\n",
    "# Load the validation dataset\n",
    "validation_dataset = tf.keras.utils.image_dataset_from_directory(\n",
    "    train_data_dir,\n",
    "    validation_split=0.2,\n",
    "    subset=\"validation\",\n",
    "    seed=123,\n",
    "    image_size=input_size,\n",
    "    batch_size=batch_size,\n",
    "    class_names=['Angry', 'Fear', 'Happy', 'Neutral', 'Sad', 'Suprise'],\n",
    "    color_mode='grayscale',\n",
    "    label_mode='categorical'\n",
    ")\n"
   ]
  },
  {
   "cell_type": "code",
   "execution_count": 626,
   "id": "6748f8b1",
   "metadata": {},
   "outputs": [
    {
     "name": "stdout",
     "output_type": "stream",
     "text": [
      "Model: \"sequential_61\"\n",
      "_________________________________________________________________\n",
      " Layer (type)                Output Shape              Param #   \n",
      "=================================================================\n",
      " conv2d_132 (Conv2D)         (None, 48, 48, 16)        160       \n",
      "                                                                 \n",
      " batch_normalization_182 (Ba  (None, 48, 48, 16)       64        \n",
      " tchNormalization)                                               \n",
      "                                                                 \n",
      " activation_139 (Activation)  (None, 48, 48, 16)       0         \n",
      "                                                                 \n",
      " max_pooling2d_103 (MaxPooli  (None, 24, 24, 16)       0         \n",
      " ng2D)                                                           \n",
      "                                                                 \n",
      " dropout_55 (Dropout)        (None, 24, 24, 16)        0         \n",
      "                                                                 \n",
      " conv2d_133 (Conv2D)         (None, 24, 24, 32)        4640      \n",
      "                                                                 \n",
      " batch_normalization_183 (Ba  (None, 24, 24, 32)       128       \n",
      " tchNormalization)                                               \n",
      "                                                                 \n",
      " activation_140 (Activation)  (None, 24, 24, 32)       0         \n",
      "                                                                 \n",
      " max_pooling2d_104 (MaxPooli  (None, 12, 12, 32)       0         \n",
      " ng2D)                                                           \n",
      "                                                                 \n",
      " dropout_56 (Dropout)        (None, 12, 12, 32)        0         \n",
      "                                                                 \n",
      " conv2d_134 (Conv2D)         (None, 12, 12, 64)        18496     \n",
      "                                                                 \n",
      " batch_normalization_184 (Ba  (None, 12, 12, 64)       256       \n",
      " tchNormalization)                                               \n",
      "                                                                 \n",
      " activation_141 (Activation)  (None, 12, 12, 64)       0         \n",
      "                                                                 \n",
      " max_pooling2d_105 (MaxPooli  (None, 6, 6, 64)         0         \n",
      " ng2D)                                                           \n",
      "                                                                 \n",
      " dropout_57 (Dropout)        (None, 6, 6, 64)          0         \n",
      "                                                                 \n",
      " conv2d_135 (Conv2D)         (None, 6, 6, 128)         73856     \n",
      "                                                                 \n",
      " batch_normalization_185 (Ba  (None, 6, 6, 128)        512       \n",
      " tchNormalization)                                               \n",
      "                                                                 \n",
      " activation_142 (Activation)  (None, 6, 6, 128)        0         \n",
      "                                                                 \n",
      " max_pooling2d_106 (MaxPooli  (None, 3, 3, 128)        0         \n",
      " ng2D)                                                           \n",
      "                                                                 \n",
      " dropout_58 (Dropout)        (None, 3, 3, 128)         0         \n",
      "                                                                 \n",
      " flatten_34 (Flatten)        (None, 1152)              0         \n",
      "                                                                 \n",
      " dense_215 (Dense)           (None, 128)               147584    \n",
      "                                                                 \n",
      " batch_normalization_186 (Ba  (None, 128)              512       \n",
      " tchNormalization)                                               \n",
      "                                                                 \n",
      " activation_143 (Activation)  (None, 128)              0         \n",
      "                                                                 \n",
      " dropout_59 (Dropout)        (None, 128)               0         \n",
      "                                                                 \n",
      " dense_216 (Dense)           (None, 6)                 774       \n",
      "                                                                 \n",
      "=================================================================\n",
      "Total params: 246,982\n",
      "Trainable params: 246,246\n",
      "Non-trainable params: 736\n",
      "_________________________________________________________________\n"
     ]
    }
   ],
   "source": [
    "# Define the number of classes\n",
    "no_of_classes = 6\n",
    "model = Sequential()\n",
    "# 1st CNN layer\n",
    "model.add(Conv2D(16, (3, 3), padding='same', input_shape=(48, 48, 1)))\n",
    "model.add(BatchNormalization())\n",
    "model.add(Activation('elu'))\n",
    "model.add(MaxPooling2D(pool_size=(2, 2)))\n",
    "model.add(Dropout(0.25))\n",
    "\n",
    "# 2nd CNN layer\n",
    "model.add(Conv2D(32, (3, 3), padding='same'))\n",
    "model.add(BatchNormalization())\n",
    "model.add(Activation('elu'))\n",
    "model.add(MaxPooling2D(pool_size=(2, 2)))\n",
    "model.add(Dropout(0.25))\n",
    "\n",
    "# 3rd CNN layer\n",
    "model.add(Conv2D(64, (3, 3), padding='same'))\n",
    "model.add(BatchNormalization())\n",
    "model.add(Activation('elu'))\n",
    "model.add(MaxPooling2D(pool_size=(2, 2)))\n",
    "model.add(Dropout(0.25))\n",
    "\n",
    "# 4th CNN layer\n",
    "model.add(Conv2D(128, (3, 3), padding='same'))\n",
    "model.add(BatchNormalization())\n",
    "model.add(Activation('elu'))\n",
    "model.add(MaxPooling2D(pool_size=(2, 2)))\n",
    "model.add(Dropout(0.25))\n",
    "\n",
    "model.add(Flatten())\n",
    "\n",
    "# Fully connected 1st layer\n",
    "model.add(Dense(128))\n",
    "model.add(BatchNormalization())\n",
    "model.add(Activation('elu'))\n",
    "model.add(Dropout(0.25))\n",
    "\n",
    "# Softmax output layer\n",
    "model.add(Dense(no_of_classes, activation='softmax'))\n",
    "\n",
    "opt = Adam(learning_rate=0.01)\n",
    "\n",
    "model.compile(optimizer=opt, loss='categorical_crossentropy', metrics=['accuracy'])\n",
    "\n",
    "model.summary()"
   ]
  },
  {
   "cell_type": "code",
   "execution_count": 627,
   "id": "921e0358",
   "metadata": {
    "scrolled": true
   },
   "outputs": [
    {
     "name": "stdout",
     "output_type": "stream",
     "text": [
      "Epoch 1/50\n",
      "442/442 [==============================] - 36s 80ms/step - loss: 1.7341 - accuracy: 0.2860 - val_loss: 80.0397 - val_accuracy: 0.1779\n",
      "Epoch 2/50\n",
      "442/442 [==============================] - 35s 79ms/step - loss: 1.5500 - accuracy: 0.3780 - val_loss: 23.6905 - val_accuracy: 0.2075\n",
      "Epoch 3/50\n",
      "442/442 [==============================] - 36s 82ms/step - loss: 1.4485 - accuracy: 0.4206 - val_loss: 14.5275 - val_accuracy: 0.1717\n",
      "Epoch 4/50\n",
      "442/442 [==============================] - 37s 84ms/step - loss: 1.3920 - accuracy: 0.4505 - val_loss: 19.4015 - val_accuracy: 0.2395\n",
      "Epoch 5/50\n",
      "442/442 [==============================] - 37s 85ms/step - loss: 1.3622 - accuracy: 0.4698 - val_loss: 30.9726 - val_accuracy: 0.1808\n",
      "Epoch 6/50\n",
      "442/442 [==============================] - 37s 85ms/step - loss: 1.3373 - accuracy: 0.4770 - val_loss: 16.3863 - val_accuracy: 0.1977\n",
      "Epoch 7/50\n",
      "442/442 [==============================] - 38s 85ms/step - loss: 1.3186 - accuracy: 0.4887 - val_loss: 26.3531 - val_accuracy: 0.1721\n",
      "Epoch 8/50\n",
      "442/442 [==============================] - 38s 85ms/step - loss: 1.3006 - accuracy: 0.4933 - val_loss: 17.5463 - val_accuracy: 0.1678\n",
      "Epoch 9/50\n",
      "442/442 [==============================] - 38s 86ms/step - loss: 1.2922 - accuracy: 0.4987 - val_loss: 17.9713 - val_accuracy: 0.1721\n",
      "Epoch 10/50\n",
      "442/442 [==============================] - 38s 86ms/step - loss: 1.2816 - accuracy: 0.5032 - val_loss: 10.7786 - val_accuracy: 0.1728\n",
      "Epoch 11/50\n",
      "442/442 [==============================] - 38s 85ms/step - loss: 1.2786 - accuracy: 0.5023 - val_loss: 16.7634 - val_accuracy: 0.1595\n",
      "Epoch 12/50\n",
      "442/442 [==============================] - 39s 89ms/step - loss: 1.2608 - accuracy: 0.5096 - val_loss: 13.3000 - val_accuracy: 0.1710\n",
      "Epoch 13/50\n",
      "442/442 [==============================] - 38s 86ms/step - loss: 1.2592 - accuracy: 0.5109 - val_loss: 15.7021 - val_accuracy: 0.1827\n",
      "Epoch 14/50\n",
      "442/442 [==============================] - 38s 86ms/step - loss: 1.2510 - accuracy: 0.5201 - val_loss: 9.0294 - val_accuracy: 0.2059\n",
      "Epoch 15/50\n",
      "442/442 [==============================] - 38s 86ms/step - loss: 1.2416 - accuracy: 0.5168 - val_loss: 11.3460 - val_accuracy: 0.2059\n",
      "Epoch 16/50\n",
      "442/442 [==============================] - 41s 93ms/step - loss: 1.2298 - accuracy: 0.5245 - val_loss: 13.2697 - val_accuracy: 0.2020\n",
      "Epoch 17/50\n",
      "442/442 [==============================] - 40s 90ms/step - loss: 1.2261 - accuracy: 0.5270 - val_loss: 40.5878 - val_accuracy: 0.2405\n",
      "Epoch 18/50\n",
      "442/442 [==============================] - 39s 88ms/step - loss: 1.2287 - accuracy: 0.5243 - val_loss: 9.9263 - val_accuracy: 0.2144\n",
      "Epoch 19/50\n",
      "442/442 [==============================] - 38s 87ms/step - loss: 1.2170 - accuracy: 0.5271 - val_loss: 8.7259 - val_accuracy: 0.2244\n",
      "Epoch 20/50\n",
      "442/442 [==============================] - 39s 87ms/step - loss: 1.2157 - accuracy: 0.5306 - val_loss: 19.6105 - val_accuracy: 0.2101\n",
      "Epoch 21/50\n",
      "442/442 [==============================] - 38s 87ms/step - loss: 1.2126 - accuracy: 0.5298 - val_loss: 33.3077 - val_accuracy: 0.1946\n",
      "Epoch 22/50\n",
      "442/442 [==============================] - 41s 93ms/step - loss: 1.1976 - accuracy: 0.5353 - val_loss: 16.6668 - val_accuracy: 0.2635\n",
      "Epoch 23/50\n",
      "442/442 [==============================] - 40s 90ms/step - loss: 1.2088 - accuracy: 0.5358 - val_loss: 37.9318 - val_accuracy: 0.2045\n",
      "Epoch 24/50\n",
      "442/442 [==============================] - 41s 92ms/step - loss: 1.2047 - accuracy: 0.5320 - val_loss: 14.6334 - val_accuracy: 0.2817\n",
      "Epoch 25/50\n",
      "442/442 [==============================] - 41s 93ms/step - loss: 1.1895 - accuracy: 0.5397 - val_loss: 28.5883 - val_accuracy: 0.1954\n",
      "Epoch 26/50\n",
      "442/442 [==============================] - 46s 104ms/step - loss: 1.1977 - accuracy: 0.5373 - val_loss: 48.8322 - val_accuracy: 0.1869\n",
      "Epoch 27/50\n",
      "442/442 [==============================] - 46s 104ms/step - loss: 1.1876 - accuracy: 0.5436 - val_loss: 16.4072 - val_accuracy: 0.2398\n",
      "Epoch 28/50\n",
      "442/442 [==============================] - 46s 104ms/step - loss: 1.1876 - accuracy: 0.5449 - val_loss: 14.7214 - val_accuracy: 0.2282\n",
      "Epoch 29/50\n",
      "442/442 [==============================] - 46s 104ms/step - loss: 1.1862 - accuracy: 0.5409 - val_loss: 28.7199 - val_accuracy: 0.2589\n",
      "Epoch 30/50\n",
      "442/442 [==============================] - 47s 106ms/step - loss: 1.1822 - accuracy: 0.5431 - val_loss: 40.0011 - val_accuracy: 0.2579\n",
      "Epoch 31/50\n",
      "442/442 [==============================] - 46s 105ms/step - loss: 1.1798 - accuracy: 0.5453 - val_loss: 10.2426 - val_accuracy: 0.2397\n",
      "Epoch 32/50\n",
      "442/442 [==============================] - 46s 104ms/step - loss: 1.1751 - accuracy: 0.5472 - val_loss: 45.3096 - val_accuracy: 0.1875\n",
      "Epoch 33/50\n",
      "442/442 [==============================] - 45s 103ms/step - loss: 1.1715 - accuracy: 0.5499 - val_loss: 28.5025 - val_accuracy: 0.2071\n",
      "Epoch 34/50\n",
      "442/442 [==============================] - 45s 102ms/step - loss: 1.1689 - accuracy: 0.5503 - val_loss: 38.4887 - val_accuracy: 0.2018\n",
      "Epoch 35/50\n",
      "442/442 [==============================] - 41s 93ms/step - loss: 1.1697 - accuracy: 0.5481 - val_loss: 21.9326 - val_accuracy: 0.2039\n",
      "Epoch 36/50\n",
      "442/442 [==============================] - 38s 86ms/step - loss: 1.1695 - accuracy: 0.5508 - val_loss: 28.1021 - val_accuracy: 0.2050\n",
      "Epoch 37/50\n",
      "442/442 [==============================] - 37s 84ms/step - loss: 1.1701 - accuracy: 0.5520 - val_loss: 17.5912 - val_accuracy: 0.2244\n",
      "Epoch 38/50\n",
      "442/442 [==============================] - 38s 85ms/step - loss: 1.1601 - accuracy: 0.5537 - val_loss: 29.4789 - val_accuracy: 0.1993\n",
      "Epoch 39/50\n",
      "442/442 [==============================] - 38s 86ms/step - loss: 1.1596 - accuracy: 0.5568 - val_loss: 16.2159 - val_accuracy: 0.2060\n",
      "Epoch 40/50\n",
      "442/442 [==============================] - 37s 84ms/step - loss: 1.1596 - accuracy: 0.5553 - val_loss: 27.6343 - val_accuracy: 0.1960\n",
      "Epoch 41/50\n",
      "442/442 [==============================] - 37s 84ms/step - loss: 1.1559 - accuracy: 0.5582 - val_loss: 47.3944 - val_accuracy: 0.1880\n",
      "Epoch 42/50\n",
      "442/442 [==============================] - 38s 85ms/step - loss: 1.1527 - accuracy: 0.5561 - val_loss: 47.1200 - val_accuracy: 0.1951\n",
      "Epoch 43/50\n",
      "442/442 [==============================] - 40s 90ms/step - loss: 1.1533 - accuracy: 0.5575 - val_loss: 26.9415 - val_accuracy: 0.1983\n",
      "Epoch 44/50\n",
      "442/442 [==============================] - 46s 103ms/step - loss: 1.1488 - accuracy: 0.5591 - val_loss: 28.9699 - val_accuracy: 0.2029\n",
      "Epoch 45/50\n",
      "442/442 [==============================] - 47s 106ms/step - loss: 1.1558 - accuracy: 0.5527 - val_loss: 38.7449 - val_accuracy: 0.1992\n",
      "Epoch 46/50\n",
      "442/442 [==============================] - 45s 103ms/step - loss: 1.1463 - accuracy: 0.5598 - val_loss: 33.9789 - val_accuracy: 0.1958\n",
      "Epoch 47/50\n",
      "442/442 [==============================] - 40s 89ms/step - loss: 1.1416 - accuracy: 0.5607 - val_loss: 37.2567 - val_accuracy: 0.1903\n",
      "Epoch 48/50\n",
      "442/442 [==============================] - 39s 87ms/step - loss: 1.1484 - accuracy: 0.5575 - val_loss: 63.1678 - val_accuracy: 0.1829\n",
      "Epoch 49/50\n",
      "442/442 [==============================] - 38s 86ms/step - loss: 1.1500 - accuracy: 0.5591 - val_loss: 30.7951 - val_accuracy: 0.2248\n",
      "Epoch 50/50\n",
      "442/442 [==============================] - 39s 88ms/step - loss: 1.1407 - accuracy: 0.5632 - val_loss: 78.9459 - val_accuracy: 0.1815\n"
     ]
    },
    {
     "data": {
      "text/plain": [
       "<keras.callbacks.History at 0x28128937cd0>"
      ]
     },
     "execution_count": 627,
     "metadata": {},
     "output_type": "execute_result"
    }
   ],
   "source": [
    "# Assuming you have your training data and labels in X_train and y_train, respectively\n",
    "# Specify the number of epochs and batch size\n",
    "epochs = 50\n",
    "\n",
    "# Fit the model\n",
    "model.fit(train_dataset,\n",
    "          epochs=epochs,\n",
    "          validation_data=validataion_dataset)\n"
   ]
  },
  {
   "cell_type": "code",
   "execution_count": 628,
   "id": "8f79bf33",
   "metadata": {},
   "outputs": [],
   "source": [
    "test_data_dir ='Testing'"
   ]
  },
  {
   "cell_type": "code",
   "execution_count": 629,
   "id": "d06f8f59",
   "metadata": {},
   "outputs": [
    {
     "name": "stdout",
     "output_type": "stream",
     "text": [
      "Found 7067 images belonging to 6 classes.\n"
     ]
    }
   ],
   "source": [
    "# Create an ImageDataGenerator instance for data augmentation\n",
    "test_datagen = ImageDataGenerator(\n",
    "    rescale=1./255,          # Rescale pixel values to [0, 1]\n",
    "    rotation_range=10,       # Randomly rotate images by 10 degrees\n",
    "    width_shift_range=0.1,   # Randomly shift the width of images by 10%\n",
    "    height_shift_range=0.1,  # Randomly shift the height of images by 10%\n",
    "    shear_range=0.2,         # Apply shear transformation with maximum shear of 20%\n",
    "    zoom_range=0.2,          # Randomly zoom into images by 20%\n",
    "    horizontal_flip=True,    # Randomly flip images horizontally\n",
    "    fill_mode='nearest'      # Fill any newly created pixels after rotation or shifting\n",
    ")\n",
    "\n",
    "# Load and augment the training dataset using the ImageDataGenerator\n",
    "test_dataset = test_datagen.flow_from_directory(\n",
    "    test_data_dir,\n",
    "    target_size=input_size,\n",
    "    batch_size=batch_size,\n",
    "    class_mode='categorical',\n",
    "    color_mode='grayscale',\n",
    "    shuffle=True\n",
    ")"
   ]
  },
  {
   "cell_type": "code",
   "execution_count": 630,
   "id": "7f7196d1",
   "metadata": {
    "scrolled": false
   },
   "outputs": [
    {
     "name": "stdout",
     "output_type": "stream",
     "text": [
      "Test loss: 1.1446704864501953\n",
      "Test accuracy: 0.5464836359024048\n"
     ]
    }
   ],
   "source": [
    "# Evaluating the model on the test data\n",
    "score = model.evaluate(test_dataset, verbose=0)\n",
    "print('Test loss:', score[0])\n",
    "print('Test accuracy:', score[1])"
   ]
  },
  {
   "cell_type": "code",
   "execution_count": 631,
   "id": "9eac3bb0",
   "metadata": {},
   "outputs": [],
   "source": [
    "from sklearn.metrics import classification_report"
   ]
  },
  {
   "cell_type": "code",
   "execution_count": 632,
   "id": "0eec6717",
   "metadata": {},
   "outputs": [
    {
     "name": "stdout",
     "output_type": "stream",
     "text": [
      "              precision    recall  f1-score   support\n",
      "\n",
      "       Angry       0.12      0.05      0.07       958\n",
      "        Fear       0.14      0.07      0.09      1024\n",
      "       Happy       0.25      0.24      0.25      1774\n",
      "     Neutral       0.17      0.30      0.22      1233\n",
      "         Sad       0.17      0.23      0.20      1247\n",
      "     Suprise       0.11      0.08      0.09       831\n",
      "\n",
      "    accuracy                           0.18      7067\n",
      "   macro avg       0.16      0.16      0.15      7067\n",
      "weighted avg       0.17      0.18      0.17      7067\n",
      "\n"
     ]
    }
   ],
   "source": [
    "predIdxs = model.predict_generator(test_dataset)\n",
    "\n",
    "predIdxs = np.argmax(predIdxs, axis=1)\n",
    "\n",
    "print(classification_report(test_dataset.labels, predIdxs,\n",
    "                            target_names=['Angry', 'Fear', 'Happy', 'Neutral', 'Sad', 'Suprise']))"
   ]
  },
  {
   "cell_type": "code",
   "execution_count": 633,
   "id": "3d975640",
   "metadata": {
    "scrolled": true
   },
   "outputs": [
    {
     "name": "stdout",
     "output_type": "stream",
     "text": [
      "221/221 [==============================] - 5s 24ms/step\n"
     ]
    }
   ],
   "source": [
    "# Make predictions on the test data\n",
    "y_pred_probs_DCNN = model.predict(test_dataset)"
   ]
  },
  {
   "cell_type": "code",
   "execution_count": 634,
   "id": "53446278",
   "metadata": {},
   "outputs": [],
   "source": [
    "# Get the true labels for the test data\n",
    "y_test = test_dataset.classes\n",
    "y_true = tf.keras.utils.to_categorical(y_test, num_classes=no_of_classes)\n"
   ]
  },
  {
   "cell_type": "code",
   "execution_count": 635,
   "id": "6e6dd5f1",
   "metadata": {},
   "outputs": [],
   "source": [
    "# Compute the ROC curve for each class (since it's a multi-class problem)\n",
    "fpr = dict()\n",
    "tpr = dict()\n",
    "roc_auc = dict()\n",
    "\n",
    "# Number of classes\n",
    "num_classes = 6\n",
    "\n",
    "for i in range(num_classes):\n",
    "    fpr[i], tpr[i], _ = roc_curve(y_true[:, i], y_pred_probs_DCNN[:, i])\n",
    "    roc_auc[i] = auc(fpr[i], tpr[i])\n"
   ]
  },
  {
   "cell_type": "code",
   "execution_count": 636,
   "id": "6358ab0e",
   "metadata": {},
   "outputs": [
    {
     "data": {
      "image/png": "[encoded data removed]",
      "text/plain": [
       "<Figure size 576x432 with 1 Axes>"
      ]
     },
     "metadata": {},
     "output_type": "display_data"
    }
   ],
   "source": [
    "# Plot the ROC curves\n",
    "plt.figure(figsize=(8, 6))\n",
    "for i in range(num_classes):\n",
    "    plt.plot(fpr[i], tpr[i], lw=2, label='ROC curve (area = %0.2f) for class %d' % (roc_auc[i], i))\n",
    "\n",
    "plt.plot([0, 1], [0, 1], color='gray', lw=2, linestyle='--')\n",
    "plt.xlim([0.0, 1.0])\n",
    "plt.ylim([0.0, 1.0])\n",
    "plt.xlabel('False Positive Rate (FPR)')\n",
    "plt.ylabel('True Positive Rate (TPR)')\n",
    "plt.title('ROC Curve for Fashion MNIST')\n",
    "plt.legend(loc='lower right')\n",
    "plt.show()\n"
   ]
  }
 ],
 "metadata": {
  "kernelspec": {
   "display_name": "Python 3 (ipykernel)",
   "language": "python",
   "name": "python3"
  },
  "language_info": {
   "codemirror_mode": {
    "name": "ipython",
    "version": 3
   },
   "file_extension": ".py",
   "mimetype": "text/x-python",
   "name": "python",
   "nbconvert_exporter": "python",
   "pygments_lexer": "ipython3",
   "version": "3.9.12"
  }
 },
 "nbformat": 4,
 "nbformat_minor": 5
}
