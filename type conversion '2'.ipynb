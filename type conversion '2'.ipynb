{
 "cells": [
  {
   "cell_type": "code",
   "execution_count": null,
   "metadata": {},
   "outputs": [],
   "source": [
    "import pandas as pd\n",
    "import numpy as np"
   ]
  },
  {
   "cell_type": "code",
   "execution_count": null,
   "metadata": {},
   "outputs": [],
   "source": [
    "column = ['seniority_inmonths']"
   ]
  },
  {
   "cell_type": "code",
   "execution_count": null,
   "metadata": {},
   "outputs": [],
   "source": [
    "dict1 = {'seniority_inmonths'  : ['    6', '     35', '     34', '     NA', '     33', '     31', '     21',\n",
    "\n",
    " '    244', '    239', '    245', '-999999', 105, 81, 93, 30, 79, 69, 104, 18, 35, 7,\n",
    "  191, 167, 206, 205, 234, 158, 197,\n",
    " 211, 212, 194, 229, 216, 235, -999999]}"
   ]
  },
  {
   "cell_type": "code",
   "execution_count": null,
   "metadata": {},
   "outputs": [],
   "source": [
    "train2 = pd.DataFrame(dict1 , columns = column )"
   ]
  },
  {
   "cell_type": "code",
   "execution_count": null,
   "metadata": {},
   "outputs": [],
   "source": [
    "obj_cols = train2.select_dtypes(include=np.object_).columns.to_list()\n",
    "for col in obj_cols:\n",
    "    print(f'{col}-----{train2[col].nunique()}')\n",
    "    print('-'  * 30)\n",
    "    print(f'{train2[col].unique()}')\n",
    "    print('='  * 30)"
   ]
  },
  {
   "cell_type": "code",
   "execution_count": null,
   "metadata": {},
   "outputs": [],
   "source": [
    "train2['seniority_inmonths'] = train2['seniority_inmonths'].astype('str')\n",
    "#train2['seniority_inmonths'] = str (obj_cols)"
   ]
  },
  {
   "cell_type": "code",
   "execution_count": null,
   "metadata": {},
   "outputs": [],
   "source": [
    "obj_cols = train2.select_dtypes(include=np.object_).columns.to_list()\n",
    "for col in obj_cols:\n",
    "    print(f'{col}-----{train2[col].nunique()}')\n",
    "    print('-'  * 30)\n",
    "    print(f'{train2[col].unique()}')\n",
    "    print('='  * 30)"
   ]
  },
  {
   "cell_type": "code",
   "execution_count": null,
   "metadata": {},
   "outputs": [],
   "source": [
    "train2 = train2.replace({'     NA': None })"
   ]
  },
  {
   "cell_type": "code",
   "execution_count": null,
   "metadata": {},
   "outputs": [],
   "source": [
    "train2"
   ]
  },
  {
   "cell_type": "code",
   "execution_count": null,
   "metadata": {},
   "outputs": [],
   "source": [
    "obj_cols = train2.select_dtypes(include=np.object_).columns.to_list()\n",
    "for col in obj_cols:\n",
    "    print(f'{col}-----{train2[col].nunique()}')\n",
    "    print('-'  * 30)\n",
    "    print(f'{train2[col].unique()}')\n",
    "    print('='  * 30)"
   ]
  },
  {
   "cell_type": "code",
   "execution_count": null,
   "metadata": {},
   "outputs": [],
   "source": [
    "train2['seniority_inmonths']  = train2['seniority_inmonths'].str.lstrip()"
   ]
  },
  {
   "cell_type": "code",
   "execution_count": null,
   "metadata": {},
   "outputs": [],
   "source": [
    "train2['seniority_inmonths'] .dtype"
   ]
  },
  {
   "cell_type": "code",
   "execution_count": null,
   "metadata": {},
   "outputs": [],
   "source": [
    "train2['seniority_inmonths']  = pd.to_numeric(train2['seniority_inmonths'])"
   ]
  },
  {
   "cell_type": "code",
   "execution_count": null,
   "metadata": {},
   "outputs": [],
   "source": [
    "train2['seniority_inmonths']"
   ]
  },
  {
   "cell_type": "code",
   "execution_count": null,
   "metadata": {},
   "outputs": [],
   "source": [
    "obj_cols = train2.select_dtypes(include=np.object_).columns.to_list()\n",
    "for col in obj_cols:\n",
    "    print(f'{col}-----{train2[col].nunique()}')\n",
    "    print('-'  * 30)\n",
    "    print(f'{train2[col].unique()}')\n",
    "    print('='  * 30)"
   ]
  },
  {
   "cell_type": "code",
   "execution_count": null,
   "metadata": {},
   "outputs": [],
   "source": [
    "#train2['seniority_inmonths'].astype(np.int16) #ValueError: Cannot convert non-finite values (NA or inf) to integer"
   ]
  },
  {
   "cell_type": "code",
   "execution_count": null,
   "metadata": {},
   "outputs": [],
   "source": [
    "train2['seniority_inmonths'].dtype"
   ]
  },
  {
   "cell_type": "code",
   "execution_count": null,
   "metadata": {},
   "outputs": [],
   "source": [
    "train2['seniority_inmonths']"
   ]
  }
 ],
 "metadata": {
  "kernelspec": {
   "display_name": "Python 3",
   "language": "python",
   "name": "python3"
  },
  "language_info": {
   "codemirror_mode": {
    "name": "ipython",
    "version": 3
   },
   "file_extension": ".py",
   "mimetype": "text/x-python",
   "name": "python",
   "nbconvert_exporter": "python",
   "pygments_lexer": "ipython3",
   "version": "3.8.5"
  }
 },
 "nbformat": 4,
 "nbformat_minor": 4
}
