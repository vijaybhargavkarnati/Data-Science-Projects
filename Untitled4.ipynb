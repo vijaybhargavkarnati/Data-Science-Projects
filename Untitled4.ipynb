{
 "cells": [
  {
   "cell_type": "code",
   "execution_count": null,
   "metadata": {},
   "outputs": [],
   "source": [
    "import pandas as pd import pickle in_path = 'H:\\\\Internship\\\\train_ver2.csv' \n",
    "#Path where the large file is out_path = 'H:\\\\Internship\\\\files_p' #Path to save the pickle files to chunk_size = 10000 #size of chunks relies on your available memory separator = ',' reader = pd.read_csv(in_path,sep=separator,chunksize=chunk_size, low_memory=False) for i, chunk in enumerate(reader): out_file = out_path + \"/data_{}.pkl\".format(i+1) with open(out_file, \"wb\") as f: pickle.dump(chunk,f,pickle.HIGHEST_PROTOCOL)\n"
   ]
  }
 ],
 "metadata": {
  "kernelspec": {
   "display_name": "Python 3",
   "language": "python",
   "name": "python3"
  },
  "language_info": {
   "codemirror_mode": {
    "name": "ipython",
    "version": 3
   },
   "file_extension": ".py",
   "mimetype": "text/x-python",
   "name": "python",
   "nbconvert_exporter": "python",
   "pygments_lexer": "ipython3",
   "version": "3.8.5"
  }
 },
 "nbformat": 4,
 "nbformat_minor": 4
}
