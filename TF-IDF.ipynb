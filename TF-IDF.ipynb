{
 "cells": [
  {
   "cell_type": "code",
   "execution_count": 2,
   "metadata": {},
   "outputs": [],
   "source": [
    "import nltk\n",
    "import re\n",
    "from nltk.corpus import stopwords\n",
    "from nltk.stem.porter import PorterStemmer\n",
    "from nltk.stem import WordNetLemmatizer"
   ]
  },
  {
   "cell_type": "code",
   "execution_count": 19,
   "metadata": {},
   "outputs": [],
   "source": [
    "ps= PorterStemmer()\n",
    "wordnet = WordNetLemmatizer()"
   ]
  },
  {
   "cell_type": "code",
   "execution_count": 20,
   "metadata": {},
   "outputs": [],
   "source": [
    "paragraph = \"The only thing better than a good algorithm is an explainable algorithm. Never forget this. No sane manager in the world would follow an unknown algorithm for managing their company’s money only because its AUROC is greater than 95%. Managers need to understand algorithms, figure out how they think about data and this is often a great task for a Data Scientist. Explaining algorithms to somebody with no scientific background can be quite difficult, but it’s very common in large companies and you must face this fact\""
   ]
  },
  {
   "cell_type": "code",
   "execution_count": 21,
   "metadata": {},
   "outputs": [],
   "source": [
    "sentences = nltk.sent_tokenize(paragraph)"
   ]
  },
  {
   "cell_type": "code",
   "execution_count": 22,
   "metadata": {},
   "outputs": [
    {
     "data": {
      "text/plain": [
       "['The only thing better than a good algorithm is an explainable algorithm.',\n",
       " 'Never forget this.',\n",
       " 'No sane manager in the world would follow an unknown algorithm for managing their company’s money only because its AUROC is greater than 95%.',\n",
       " 'Managers need to understand algorithms, figure out how they think about data and this is often a great task for a Data Scientist.',\n",
       " 'Explaining algorithms to somebody with no scientific background can be quite difficult, but it’s very common in large companies and you must face this fact']"
      ]
     },
     "execution_count": 22,
     "metadata": {},
     "output_type": "execute_result"
    }
   ],
   "source": [
    "sentences"
   ]
  },
  {
   "cell_type": "code",
   "execution_count": 23,
   "metadata": {},
   "outputs": [],
   "source": [
    "words = nltk.word_tokenize(paragraph)"
   ]
  },
  {
   "cell_type": "code",
   "execution_count": 30,
   "metadata": {},
   "outputs": [],
   "source": [
    "corpus = []\n",
    "for i in range(len(sentences)):\n",
    "    review = re.sub('[^a-zA-Z]', ' ', sentences[i])\n",
    "    review = review.lower()\n",
    "    review = review.split()\n",
    "    review = [wordnet.lemmatize(word) for word in review if  not word in set(stopwords.words('english'))]\n",
    "    review = ' '.join(review)\n",
    "    corpus.append(review)\n",
    "            \n",
    "            \n"
   ]
  },
  {
   "cell_type": "code",
   "execution_count": 31,
   "metadata": {},
   "outputs": [
    {
     "data": {
      "text/plain": [
       "'explaining algorithm somebody scientific background quite difficult common large company must face fact'"
      ]
     },
     "execution_count": 31,
     "metadata": {},
     "output_type": "execute_result"
    }
   ],
   "source": [
    "review"
   ]
  },
  {
   "cell_type": "code",
   "execution_count": 32,
   "metadata": {},
   "outputs": [
    {
     "data": {
      "text/plain": [
       "['thing better good algorithm explainable algorithm',\n",
       " 'never forget',\n",
       " 'sane manager world would follow unknown algorithm managing company money auroc greater',\n",
       " 'manager need understand algorithm figure think data often great task data scientist',\n",
       " 'explaining algorithm somebody scientific background quite difficult common large company must face fact']"
      ]
     },
     "execution_count": 32,
     "metadata": {},
     "output_type": "execute_result"
    }
   ],
   "source": [
    "corpus"
   ]
  },
  {
   "cell_type": "code",
   "execution_count": null,
   "metadata": {},
   "outputs": [],
   "source": []
  },
  {
   "cell_type": "code",
   "execution_count": 36,
   "metadata": {},
   "outputs": [],
   "source": [
    "from  sklearn.feature_extraction.text import TfidfVectorizer\n",
    "\n",
    "tfidV = TfidfVectorizer()\n",
    "\n",
    "X = tfidV.fit_transform(corpus).toarray()"
   ]
  },
  {
   "cell_type": "code",
   "execution_count": 37,
   "metadata": {},
   "outputs": [
    {
     "data": {
      "text/plain": [
       "array([[0.49084524, 0.        , 0.        , 0.43562339, 0.        ,\n",
       "        0.        , 0.        , 0.        , 0.43562339, 0.        ,\n",
       "        0.        , 0.        , 0.        , 0.        , 0.        ,\n",
       "        0.43562339, 0.        , 0.        , 0.        , 0.        ,\n",
       "        0.        , 0.        , 0.        , 0.        , 0.        ,\n",
       "        0.        , 0.        , 0.        , 0.        , 0.        ,\n",
       "        0.        , 0.        , 0.43562339, 0.        , 0.        ,\n",
       "        0.        , 0.        , 0.        ],\n",
       "       [0.        , 0.        , 0.        , 0.        , 0.        ,\n",
       "        0.        , 0.        , 0.        , 0.        , 0.        ,\n",
       "        0.        , 0.        , 0.        , 0.        , 0.70710678,\n",
       "        0.        , 0.        , 0.        , 0.        , 0.        ,\n",
       "        0.        , 0.        , 0.        , 0.        , 0.70710678,\n",
       "        0.        , 0.        , 0.        , 0.        , 0.        ,\n",
       "        0.        , 0.        , 0.        , 0.        , 0.        ,\n",
       "        0.        , 0.        , 0.        ],\n",
       "       [0.17288481, 0.3068693 , 0.        , 0.        , 0.        ,\n",
       "        0.24758022, 0.        , 0.        , 0.        , 0.        ,\n",
       "        0.        , 0.        , 0.        , 0.3068693 , 0.        ,\n",
       "        0.        , 0.        , 0.3068693 , 0.        , 0.24758022,\n",
       "        0.3068693 , 0.3068693 , 0.        , 0.        , 0.        ,\n",
       "        0.        , 0.        , 0.3068693 , 0.        , 0.        ,\n",
       "        0.        , 0.        , 0.        , 0.        , 0.        ,\n",
       "        0.3068693 , 0.3068693 , 0.3068693 ],\n",
       "       [0.15644497, 0.        , 0.        , 0.        , 0.        ,\n",
       "        0.        , 0.5553774 , 0.        , 0.        , 0.        ,\n",
       "        0.        , 0.        , 0.2776887 , 0.        , 0.        ,\n",
       "        0.        , 0.2776887 , 0.        , 0.        , 0.2240375 ,\n",
       "        0.        , 0.        , 0.        , 0.2776887 , 0.        ,\n",
       "        0.2776887 , 0.        , 0.        , 0.        , 0.2776887 ,\n",
       "        0.        , 0.2776887 , 0.        , 0.2776887 , 0.2776887 ,\n",
       "        0.        , 0.        , 0.        ],\n",
       "       [0.16284967, 0.        , 0.28905699, 0.        , 0.28905699,\n",
       "        0.23320936, 0.        , 0.28905699, 0.        , 0.28905699,\n",
       "        0.28905699, 0.28905699, 0.        , 0.        , 0.        ,\n",
       "        0.        , 0.        , 0.        , 0.28905699, 0.        ,\n",
       "        0.        , 0.        , 0.28905699, 0.        , 0.        ,\n",
       "        0.        , 0.28905699, 0.        , 0.28905699, 0.        ,\n",
       "        0.28905699, 0.        , 0.        , 0.        , 0.        ,\n",
       "        0.        , 0.        , 0.        ]])"
      ]
     },
     "execution_count": 37,
     "metadata": {},
     "output_type": "execute_result"
    }
   ],
   "source": [
    "X"
   ]
  },
  {
   "cell_type": "code",
   "execution_count": null,
   "metadata": {},
   "outputs": [],
   "source": []
  }
 ],
 "metadata": {
  "kernelspec": {
   "display_name": "Python 3",
   "language": "python",
   "name": "python3"
  },
  "language_info": {
   "codemirror_mode": {
    "name": "ipython",
    "version": 3
   },
   "file_extension": ".py",
   "mimetype": "text/x-python",
   "name": "python",
   "nbconvert_exporter": "python",
   "pygments_lexer": "ipython3",
   "version": "3.8.5"
  }
 },
 "nbformat": 4,
 "nbformat_minor": 4
}
