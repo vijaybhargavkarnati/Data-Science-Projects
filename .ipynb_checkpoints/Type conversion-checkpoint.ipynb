{
 "cells": [
  {
   "cell_type": "code",
   "execution_count": 342,
   "metadata": {},
   "outputs": [],
   "source": [
    "#our aim is to convert the age(presently it is presnet as object datatype) column to int16(so as to reduce the memory size for efficinet reading the of the dataset)"
   ]
  },
  {
   "cell_type": "code",
   "execution_count": 343,
   "metadata": {},
   "outputs": [],
   "source": [
    "import pandas as pd\n",
    "import numpy as np"
   ]
  },
  {
   "cell_type": "code",
   "execution_count": 344,
   "metadata": {},
   "outputs": [],
   "source": [
    "dict = {'age' : [' 35', ' 23', ' 22', ' 24', ' 65', ' 28', ' 25', ' 26', ' 53', ' 27', ' 32', ' 37',' NA',  '102', '104', '111', '107', '109', '105', '112', '115', '110', '116', '108', '113', 37, 81, 43, 30, 45, 41,67,59,46]\n",
    "       }"
   ]
  },
  {
   "cell_type": "code",
   "execution_count": 345,
   "metadata": {},
   "outputs": [],
   "source": [
    "data = pd.DataFrame(data = dict, columns =['age'])"
   ]
  },
  {
   "cell_type": "code",
   "execution_count": 346,
   "metadata": {},
   "outputs": [
    {
     "data": {
      "text/plain": [
       "0      35\n",
       "1      23\n",
       "2      22\n",
       "3      24\n",
       "4      65\n",
       "5      28\n",
       "6      25\n",
       "7      26\n",
       "8      53\n",
       "9      27\n",
       "10     32\n",
       "11     37\n",
       "12     NA\n",
       "13    102\n",
       "14    104\n",
       "15    111\n",
       "16    107\n",
       "17    109\n",
       "18    105\n",
       "19    112\n",
       "20    115\n",
       "21    110\n",
       "22    116\n",
       "23    108\n",
       "24    113\n",
       "25     37\n",
       "26     81\n",
       "27     43\n",
       "28     30\n",
       "29     45\n",
       "30     41\n",
       "31     67\n",
       "32     59\n",
       "33     46\n",
       "Name: age, dtype: object"
      ]
     },
     "execution_count": 346,
     "metadata": {},
     "output_type": "execute_result"
    }
   ],
   "source": [
    "data['age']"
   ]
  },
  {
   "cell_type": "code",
   "execution_count": 347,
   "metadata": {},
   "outputs": [
    {
     "name": "stdout",
     "output_type": "stream",
     "text": [
      "age-----34\n",
      "------------------------------\n",
      "[' 35' ' 23' ' 22' ' 24' ' 65' ' 28' ' 25' ' 26' ' 53' ' 27' ' 32' ' 37'\n",
      " ' NA' '102' '104' '111' '107' '109' '105' '112' '115' '110' '116' '108'\n",
      " '113' 37 81 43 30 45 41 67 59 46]\n",
      "==============================\n"
     ]
    }
   ],
   "source": [
    "obj_cols = data.select_dtypes(include=np.object_).columns.to_list()\n",
    "for col in obj_cols:\n",
    "    print(f'{col}-----{data[col].nunique()}')\n",
    "    print('-'  * 30)\n",
    "    print(f'{data[col].unique()}')\n",
    "    print('='  * 30)"
   ]
  },
  {
   "cell_type": "code",
   "execution_count": 348,
   "metadata": {},
   "outputs": [],
   "source": [
    "data['age'] =data['age'].astype('str')"
   ]
  },
  {
   "cell_type": "code",
   "execution_count": 349,
   "metadata": {},
   "outputs": [
    {
     "name": "stdout",
     "output_type": "stream",
     "text": [
      "age-----34\n",
      "------------------------------\n",
      "[' 35' ' 23' ' 22' ' 24' ' 65' ' 28' ' 25' ' 26' ' 53' ' 27' ' 32' ' 37'\n",
      " ' NA' '102' '104' '111' '107' '109' '105' '112' '115' '110' '116' '108'\n",
      " '113' '37' '81' '43' '30' '45' '41' '67' '59' '46']\n",
      "==============================\n"
     ]
    }
   ],
   "source": [
    "obj_cols = data.select_dtypes(include=np.object_).columns.to_list()\n",
    "for col in obj_cols:\n",
    "    print(f'{col}-----{data[col].nunique()}')\n",
    "    print('-'  * 30)\n",
    "    print(f'{data[col].unique()}')\n",
    "    print('='  * 30)"
   ]
  },
  {
   "cell_type": "code",
   "execution_count": 337,
   "metadata": {},
   "outputs": [
    {
     "data": {
      "text/html": [
       "<div>\n",
       "<style scoped>\n",
       "    .dataframe tbody tr th:only-of-type {\n",
       "        vertical-align: middle;\n",
       "    }\n",
       "\n",
       "    .dataframe tbody tr th {\n",
       "        vertical-align: top;\n",
       "    }\n",
       "\n",
       "    .dataframe thead th {\n",
       "        text-align: right;\n",
       "    }\n",
       "</style>\n",
       "<table border=\"1\" class=\"dataframe\">\n",
       "  <thead>\n",
       "    <tr style=\"text-align: right;\">\n",
       "      <th></th>\n",
       "      <th>age</th>\n",
       "    </tr>\n",
       "  </thead>\n",
       "  <tbody>\n",
       "    <tr>\n",
       "      <th>0</th>\n",
       "      <td>False</td>\n",
       "    </tr>\n",
       "    <tr>\n",
       "      <th>1</th>\n",
       "      <td>False</td>\n",
       "    </tr>\n",
       "    <tr>\n",
       "      <th>2</th>\n",
       "      <td>False</td>\n",
       "    </tr>\n",
       "    <tr>\n",
       "      <th>3</th>\n",
       "      <td>False</td>\n",
       "    </tr>\n",
       "    <tr>\n",
       "      <th>4</th>\n",
       "      <td>False</td>\n",
       "    </tr>\n",
       "    <tr>\n",
       "      <th>5</th>\n",
       "      <td>False</td>\n",
       "    </tr>\n",
       "    <tr>\n",
       "      <th>6</th>\n",
       "      <td>False</td>\n",
       "    </tr>\n",
       "    <tr>\n",
       "      <th>7</th>\n",
       "      <td>False</td>\n",
       "    </tr>\n",
       "    <tr>\n",
       "      <th>8</th>\n",
       "      <td>False</td>\n",
       "    </tr>\n",
       "    <tr>\n",
       "      <th>9</th>\n",
       "      <td>False</td>\n",
       "    </tr>\n",
       "    <tr>\n",
       "      <th>10</th>\n",
       "      <td>False</td>\n",
       "    </tr>\n",
       "    <tr>\n",
       "      <th>11</th>\n",
       "      <td>False</td>\n",
       "    </tr>\n",
       "    <tr>\n",
       "      <th>12</th>\n",
       "      <td>False</td>\n",
       "    </tr>\n",
       "    <tr>\n",
       "      <th>13</th>\n",
       "      <td>False</td>\n",
       "    </tr>\n",
       "    <tr>\n",
       "      <th>14</th>\n",
       "      <td>False</td>\n",
       "    </tr>\n",
       "    <tr>\n",
       "      <th>15</th>\n",
       "      <td>False</td>\n",
       "    </tr>\n",
       "    <tr>\n",
       "      <th>16</th>\n",
       "      <td>False</td>\n",
       "    </tr>\n",
       "    <tr>\n",
       "      <th>17</th>\n",
       "      <td>False</td>\n",
       "    </tr>\n",
       "    <tr>\n",
       "      <th>18</th>\n",
       "      <td>False</td>\n",
       "    </tr>\n",
       "    <tr>\n",
       "      <th>19</th>\n",
       "      <td>False</td>\n",
       "    </tr>\n",
       "    <tr>\n",
       "      <th>20</th>\n",
       "      <td>False</td>\n",
       "    </tr>\n",
       "    <tr>\n",
       "      <th>21</th>\n",
       "      <td>False</td>\n",
       "    </tr>\n",
       "    <tr>\n",
       "      <th>22</th>\n",
       "      <td>False</td>\n",
       "    </tr>\n",
       "    <tr>\n",
       "      <th>23</th>\n",
       "      <td>False</td>\n",
       "    </tr>\n",
       "    <tr>\n",
       "      <th>24</th>\n",
       "      <td>False</td>\n",
       "    </tr>\n",
       "    <tr>\n",
       "      <th>25</th>\n",
       "      <td>False</td>\n",
       "    </tr>\n",
       "    <tr>\n",
       "      <th>26</th>\n",
       "      <td>False</td>\n",
       "    </tr>\n",
       "    <tr>\n",
       "      <th>27</th>\n",
       "      <td>False</td>\n",
       "    </tr>\n",
       "    <tr>\n",
       "      <th>28</th>\n",
       "      <td>False</td>\n",
       "    </tr>\n",
       "    <tr>\n",
       "      <th>29</th>\n",
       "      <td>False</td>\n",
       "    </tr>\n",
       "    <tr>\n",
       "      <th>30</th>\n",
       "      <td>False</td>\n",
       "    </tr>\n",
       "    <tr>\n",
       "      <th>31</th>\n",
       "      <td>False</td>\n",
       "    </tr>\n",
       "    <tr>\n",
       "      <th>32</th>\n",
       "      <td>False</td>\n",
       "    </tr>\n",
       "    <tr>\n",
       "      <th>33</th>\n",
       "      <td>False</td>\n",
       "    </tr>\n",
       "  </tbody>\n",
       "</table>\n",
       "</div>"
      ],
      "text/plain": [
       "      age\n",
       "0   False\n",
       "1   False\n",
       "2   False\n",
       "3   False\n",
       "4   False\n",
       "5   False\n",
       "6   False\n",
       "7   False\n",
       "8   False\n",
       "9   False\n",
       "10  False\n",
       "11  False\n",
       "12  False\n",
       "13  False\n",
       "14  False\n",
       "15  False\n",
       "16  False\n",
       "17  False\n",
       "18  False\n",
       "19  False\n",
       "20  False\n",
       "21  False\n",
       "22  False\n",
       "23  False\n",
       "24  False\n",
       "25  False\n",
       "26  False\n",
       "27  False\n",
       "28  False\n",
       "29  False\n",
       "30  False\n",
       "31  False\n",
       "32  False\n",
       "33  False"
      ]
     },
     "execution_count": 337,
     "metadata": {},
     "output_type": "execute_result"
    }
   ],
   "source": [
    "data.isnull()"
   ]
  },
  {
   "cell_type": "code",
   "execution_count": 350,
   "metadata": {},
   "outputs": [],
   "source": [
    "data = data.replace({' NA':' 0'})"
   ]
  },
  {
   "cell_type": "code",
   "execution_count": 351,
   "metadata": {},
   "outputs": [
    {
     "name": "stdout",
     "output_type": "stream",
     "text": [
      "age-----34\n",
      "------------------------------\n",
      "[' 35' ' 23' ' 22' ' 24' ' 65' ' 28' ' 25' ' 26' ' 53' ' 27' ' 32' ' 37'\n",
      " ' 0' '102' '104' '111' '107' '109' '105' '112' '115' '110' '116' '108'\n",
      " '113' '37' '81' '43' '30' '45' '41' '67' '59' '46']\n",
      "==============================\n"
     ]
    }
   ],
   "source": [
    "obj_cols = data.select_dtypes(include=np.object_).columns.to_list()\n",
    "for col in obj_cols:\n",
    "    print(f'{col}-----{data[col].nunique()}')\n",
    "    print('-'  * 30)\n",
    "    print(f'{data[col].unique()}')\n",
    "    print('='  * 30)"
   ]
  },
  {
   "cell_type": "code",
   "execution_count": 352,
   "metadata": {},
   "outputs": [],
   "source": [
    "data['age'] = data['age'].str.lstrip()"
   ]
  },
  {
   "cell_type": "code",
   "execution_count": 353,
   "metadata": {},
   "outputs": [
    {
     "name": "stdout",
     "output_type": "stream",
     "text": [
      "age-----33\n",
      "------------------------------\n",
      "['35' '23' '22' '24' '65' '28' '25' '26' '53' '27' '32' '37' '0' '102'\n",
      " '104' '111' '107' '109' '105' '112' '115' '110' '116' '108' '113' '81'\n",
      " '43' '30' '45' '41' '67' '59' '46']\n",
      "==============================\n"
     ]
    }
   ],
   "source": [
    "obj_cols = data.select_dtypes(include=np.object_).columns.to_list()\n",
    "for col in obj_cols:\n",
    "    print(f'{col}-----{data[col].nunique()}')\n",
    "    print('-'  * 30)\n",
    "    print(f'{data[col].unique()}')\n",
    "    print('='  * 30)"
   ]
  },
  {
   "cell_type": "code",
   "execution_count": 354,
   "metadata": {},
   "outputs": [
    {
     "data": {
      "text/plain": [
       "0     False\n",
       "1     False\n",
       "2     False\n",
       "3     False\n",
       "4     False\n",
       "5     False\n",
       "6     False\n",
       "7     False\n",
       "8     False\n",
       "9     False\n",
       "10    False\n",
       "11    False\n",
       "12    False\n",
       "13    False\n",
       "14    False\n",
       "15    False\n",
       "16    False\n",
       "17    False\n",
       "18    False\n",
       "19    False\n",
       "20    False\n",
       "21    False\n",
       "22    False\n",
       "23    False\n",
       "24    False\n",
       "25    False\n",
       "26    False\n",
       "27    False\n",
       "28    False\n",
       "29    False\n",
       "30    False\n",
       "31    False\n",
       "32    False\n",
       "33    False\n",
       "Name: age, dtype: bool"
      ]
     },
     "execution_count": 354,
     "metadata": {},
     "output_type": "execute_result"
    }
   ],
   "source": [
    "data['age'].isnull()"
   ]
  },
  {
   "cell_type": "code",
   "execution_count": 359,
   "metadata": {},
   "outputs": [
    {
     "ename": "SyntaxError",
     "evalue": "invalid syntax (<ipython-input-359-d45c1911f446>, line 1)",
     "output_type": "error",
     "traceback": [
      "\u001b[1;36m  File \u001b[1;32m\"<ipython-input-359-d45c1911f446>\"\u001b[1;36m, line \u001b[1;32m1\u001b[0m\n\u001b[1;33m    we cant convert NaN value to integer but we can hold woht float values.\u001b[0m\n\u001b[1;37m       ^\u001b[0m\n\u001b[1;31mSyntaxError\u001b[0m\u001b[1;31m:\u001b[0m invalid syntax\n"
     ]
    }
   ],
   "source": [
    "we cant convert NaN value to integer but we can hold woht float values."
   ]
  },
  {
   "cell_type": "code",
   "execution_count": 355,
   "metadata": {},
   "outputs": [
    {
     "data": {
      "text/plain": [
       "dtype('O')"
      ]
     },
     "execution_count": 355,
     "metadata": {},
     "output_type": "execute_result"
    }
   ],
   "source": [
    "data['age'].dtype"
   ]
  },
  {
   "cell_type": "code",
   "execution_count": 356,
   "metadata": {},
   "outputs": [],
   "source": [
    "data['age']= data['age'].astype(np.int16)"
   ]
  },
  {
   "cell_type": "code",
   "execution_count": 357,
   "metadata": {},
   "outputs": [
    {
     "data": {
      "text/plain": [
       "0      35\n",
       "1      23\n",
       "2      22\n",
       "3      24\n",
       "4      65\n",
       "5      28\n",
       "6      25\n",
       "7      26\n",
       "8      53\n",
       "9      27\n",
       "10     32\n",
       "11     37\n",
       "12      0\n",
       "13    102\n",
       "14    104\n",
       "15    111\n",
       "16    107\n",
       "17    109\n",
       "18    105\n",
       "19    112\n",
       "20    115\n",
       "21    110\n",
       "22    116\n",
       "23    108\n",
       "24    113\n",
       "25     37\n",
       "26     81\n",
       "27     43\n",
       "28     30\n",
       "29     45\n",
       "30     41\n",
       "31     67\n",
       "32     59\n",
       "33     46\n",
       "Name: age, dtype: int16"
      ]
     },
     "execution_count": 357,
     "metadata": {},
     "output_type": "execute_result"
    }
   ],
   "source": [
    "data['age']"
   ]
  },
  {
   "cell_type": "code",
   "execution_count": 317,
   "metadata": {},
   "outputs": [
    {
     "data": {
      "text/plain": [
       "'\"def conv_age(age_str):\\n    try:\\n      if age_str > 0:\\n        return age_str\\n    except:      \\n      #if re.search(\\'^\\\\s[0-9]+$\\', age_str,re.I):\\n      if \\'NA\\' in age_str:\\n        return np.NAN\\n      else:\\n        return float(age_str.strip())'"
      ]
     },
     "execution_count": 317,
     "metadata": {},
     "output_type": "execute_result"
    }
   ],
   "source": [
    "#data['age']= data['age'].astype(np.int16)def conv_age(age_str):\n",
    "\"\"\"\"def conv_age(age_str):\n",
    "    try:\n",
    "      if age_str > 0:\n",
    "        return age_str\n",
    "    except:      \n",
    "      #if re.search('^\\s[0-9]+$', age_str,re.I):\n",
    "      if 'NA' in age_str:\n",
    "        return np.NAN\n",
    "      else:\n",
    "        return float(age_str.strip())\"\"\"      "
   ]
  },
  {
   "cell_type": "code",
   "execution_count": 318,
   "metadata": {},
   "outputs": [],
   "source": [
    "#data['age'] = np.vectorize(conv_age)(data['age']).astype(np.int16)"
   ]
  },
  {
   "cell_type": "code",
   "execution_count": 358,
   "metadata": {},
   "outputs": [
    {
     "data": {
      "text/plain": [
       "dtype('int16')"
      ]
     },
     "execution_count": 358,
     "metadata": {},
     "output_type": "execute_result"
    }
   ],
   "source": [
    "data['age'].dtype"
   ]
  },
  {
   "cell_type": "code",
   "execution_count": 320,
   "metadata": {},
   "outputs": [
    {
     "data": {
      "text/plain": [
       "0      35.0\n",
       "1      23.0\n",
       "2      22.0\n",
       "3      24.0\n",
       "4      65.0\n",
       "5      28.0\n",
       "6      25.0\n",
       "7      26.0\n",
       "8      53.0\n",
       "9      27.0\n",
       "10     32.0\n",
       "11     37.0\n",
       "12      NaN\n",
       "13    102.0\n",
       "14    104.0\n",
       "15    111.0\n",
       "16    107.0\n",
       "17    109.0\n",
       "18    105.0\n",
       "19    112.0\n",
       "20    115.0\n",
       "21    110.0\n",
       "22    116.0\n",
       "23    108.0\n",
       "24    113.0\n",
       "25     37.0\n",
       "26     81.0\n",
       "27     43.0\n",
       "28     30.0\n",
       "29     45.0\n",
       "30     41.0\n",
       "31     67.0\n",
       "32     59.0\n",
       "33     46.0\n",
       "Name: age, dtype: float16"
      ]
     },
     "execution_count": 320,
     "metadata": {},
     "output_type": "execute_result"
    }
   ],
   "source": [
    "data['age']"
   ]
  },
  {
   "cell_type": "code",
   "execution_count": 321,
   "metadata": {},
   "outputs": [],
   "source": [
    "data['age']= pd.to_numeric(data['age'])"
   ]
  },
  {
   "cell_type": "code",
   "execution_count": 322,
   "metadata": {},
   "outputs": [],
   "source": [
    "data['age']= pd.to_numeric(data['age'])"
   ]
  },
  {
   "cell_type": "code",
   "execution_count": 323,
   "metadata": {},
   "outputs": [
    {
     "data": {
      "text/html": [
       "<div>\n",
       "<style scoped>\n",
       "    .dataframe tbody tr th:only-of-type {\n",
       "        vertical-align: middle;\n",
       "    }\n",
       "\n",
       "    .dataframe tbody tr th {\n",
       "        vertical-align: top;\n",
       "    }\n",
       "\n",
       "    .dataframe thead th {\n",
       "        text-align: right;\n",
       "    }\n",
       "</style>\n",
       "<table border=\"1\" class=\"dataframe\">\n",
       "  <thead>\n",
       "    <tr style=\"text-align: right;\">\n",
       "      <th></th>\n",
       "      <th>age</th>\n",
       "    </tr>\n",
       "  </thead>\n",
       "  <tbody>\n",
       "    <tr>\n",
       "      <th>0</th>\n",
       "      <td>35.0</td>\n",
       "    </tr>\n",
       "    <tr>\n",
       "      <th>1</th>\n",
       "      <td>23.0</td>\n",
       "    </tr>\n",
       "    <tr>\n",
       "      <th>2</th>\n",
       "      <td>22.0</td>\n",
       "    </tr>\n",
       "    <tr>\n",
       "      <th>3</th>\n",
       "      <td>24.0</td>\n",
       "    </tr>\n",
       "    <tr>\n",
       "      <th>4</th>\n",
       "      <td>65.0</td>\n",
       "    </tr>\n",
       "    <tr>\n",
       "      <th>5</th>\n",
       "      <td>28.0</td>\n",
       "    </tr>\n",
       "    <tr>\n",
       "      <th>6</th>\n",
       "      <td>25.0</td>\n",
       "    </tr>\n",
       "    <tr>\n",
       "      <th>7</th>\n",
       "      <td>26.0</td>\n",
       "    </tr>\n",
       "    <tr>\n",
       "      <th>8</th>\n",
       "      <td>53.0</td>\n",
       "    </tr>\n",
       "    <tr>\n",
       "      <th>9</th>\n",
       "      <td>27.0</td>\n",
       "    </tr>\n",
       "    <tr>\n",
       "      <th>10</th>\n",
       "      <td>32.0</td>\n",
       "    </tr>\n",
       "    <tr>\n",
       "      <th>11</th>\n",
       "      <td>37.0</td>\n",
       "    </tr>\n",
       "    <tr>\n",
       "      <th>12</th>\n",
       "      <td>NaN</td>\n",
       "    </tr>\n",
       "    <tr>\n",
       "      <th>13</th>\n",
       "      <td>102.0</td>\n",
       "    </tr>\n",
       "    <tr>\n",
       "      <th>14</th>\n",
       "      <td>104.0</td>\n",
       "    </tr>\n",
       "    <tr>\n",
       "      <th>15</th>\n",
       "      <td>111.0</td>\n",
       "    </tr>\n",
       "    <tr>\n",
       "      <th>16</th>\n",
       "      <td>107.0</td>\n",
       "    </tr>\n",
       "    <tr>\n",
       "      <th>17</th>\n",
       "      <td>109.0</td>\n",
       "    </tr>\n",
       "    <tr>\n",
       "      <th>18</th>\n",
       "      <td>105.0</td>\n",
       "    </tr>\n",
       "    <tr>\n",
       "      <th>19</th>\n",
       "      <td>112.0</td>\n",
       "    </tr>\n",
       "    <tr>\n",
       "      <th>20</th>\n",
       "      <td>115.0</td>\n",
       "    </tr>\n",
       "    <tr>\n",
       "      <th>21</th>\n",
       "      <td>110.0</td>\n",
       "    </tr>\n",
       "    <tr>\n",
       "      <th>22</th>\n",
       "      <td>116.0</td>\n",
       "    </tr>\n",
       "    <tr>\n",
       "      <th>23</th>\n",
       "      <td>108.0</td>\n",
       "    </tr>\n",
       "    <tr>\n",
       "      <th>24</th>\n",
       "      <td>113.0</td>\n",
       "    </tr>\n",
       "    <tr>\n",
       "      <th>25</th>\n",
       "      <td>37.0</td>\n",
       "    </tr>\n",
       "    <tr>\n",
       "      <th>26</th>\n",
       "      <td>81.0</td>\n",
       "    </tr>\n",
       "    <tr>\n",
       "      <th>27</th>\n",
       "      <td>43.0</td>\n",
       "    </tr>\n",
       "    <tr>\n",
       "      <th>28</th>\n",
       "      <td>30.0</td>\n",
       "    </tr>\n",
       "    <tr>\n",
       "      <th>29</th>\n",
       "      <td>45.0</td>\n",
       "    </tr>\n",
       "    <tr>\n",
       "      <th>30</th>\n",
       "      <td>41.0</td>\n",
       "    </tr>\n",
       "    <tr>\n",
       "      <th>31</th>\n",
       "      <td>67.0</td>\n",
       "    </tr>\n",
       "    <tr>\n",
       "      <th>32</th>\n",
       "      <td>59.0</td>\n",
       "    </tr>\n",
       "    <tr>\n",
       "      <th>33</th>\n",
       "      <td>46.0</td>\n",
       "    </tr>\n",
       "  </tbody>\n",
       "</table>\n",
       "</div>"
      ],
      "text/plain": [
       "      age\n",
       "0    35.0\n",
       "1    23.0\n",
       "2    22.0\n",
       "3    24.0\n",
       "4    65.0\n",
       "5    28.0\n",
       "6    25.0\n",
       "7    26.0\n",
       "8    53.0\n",
       "9    27.0\n",
       "10   32.0\n",
       "11   37.0\n",
       "12    NaN\n",
       "13  102.0\n",
       "14  104.0\n",
       "15  111.0\n",
       "16  107.0\n",
       "17  109.0\n",
       "18  105.0\n",
       "19  112.0\n",
       "20  115.0\n",
       "21  110.0\n",
       "22  116.0\n",
       "23  108.0\n",
       "24  113.0\n",
       "25   37.0\n",
       "26   81.0\n",
       "27   43.0\n",
       "28   30.0\n",
       "29   45.0\n",
       "30   41.0\n",
       "31   67.0\n",
       "32   59.0\n",
       "33   46.0"
      ]
     },
     "execution_count": 323,
     "metadata": {},
     "output_type": "execute_result"
    }
   ],
   "source": [
    "data"
   ]
  },
  {
   "cell_type": "code",
   "execution_count": 324,
   "metadata": {},
   "outputs": [
    {
     "name": "stdout",
     "output_type": "stream",
     "text": [
      "<class 'pandas.core.frame.DataFrame'>\n",
      "RangeIndex: 34 entries, 0 to 33\n",
      "Data columns (total 1 columns):\n",
      " #   Column  Non-Null Count  Dtype  \n",
      "---  ------  --------------  -----  \n",
      " 0   age     33 non-null     float16\n",
      "dtypes: float16(1)\n",
      "memory usage: 196.0 bytes\n"
     ]
    }
   ],
   "source": [
    "data.info()"
   ]
  },
  {
   "cell_type": "code",
   "execution_count": 325,
   "metadata": {},
   "outputs": [
    {
     "data": {
      "text/plain": [
       "dtype('float16')"
      ]
     },
     "execution_count": 325,
     "metadata": {},
     "output_type": "execute_result"
    }
   ],
   "source": [
    "data['age'].dtype"
   ]
  },
  {
   "cell_type": "code",
   "execution_count": 326,
   "metadata": {},
   "outputs": [],
   "source": [
    "#df['age']  = np.vectorize(conv_age)(df['age']).astype(np.int16)"
   ]
  },
  {
   "cell_type": "code",
   "execution_count": 327,
   "metadata": {},
   "outputs": [
    {
     "data": {
      "text/plain": [
       "\"%%time\\ndf['age']  = np.vectorize(conv_age)(df['age']).astype(np.int16)\""
      ]
     },
     "execution_count": 327,
     "metadata": {},
     "output_type": "execute_result"
    }
   ],
   "source": [
    "\"\"\"%%time\n",
    "df['age']  = np.vectorize(conv_age)(df['age']).astype(np.int16)\"\"\""
   ]
  }
 ],
 "metadata": {
  "kernelspec": {
   "display_name": "Python 3",
   "language": "python",
   "name": "python3"
  },
  "language_info": {
   "codemirror_mode": {
    "name": "ipython",
    "version": 3
   },
   "file_extension": ".py",
   "mimetype": "text/x-python",
   "name": "python",
   "nbconvert_exporter": "python",
   "pygments_lexer": "ipython3",
   "version": "3.8.5"
  }
 },
 "nbformat": 4,
 "nbformat_minor": 4
}
