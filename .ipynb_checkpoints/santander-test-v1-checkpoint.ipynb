{
 "cells": [
  {
   "cell_type": "code",
   "execution_count": 1,
   "metadata": {},
   "outputs": [],
   "source": [
    "import pandas as pd\n",
    "import numpy as np \n",
    "import seaborn as sns"
   ]
  },
  {
   "cell_type": "code",
   "execution_count": 2,
   "metadata": {},
   "outputs": [],
   "source": [
    "rename_dict = { 'antiguedad' : 'customer_seniority', \n",
    "                'fecha_dato' : 'date', \n",
    "               'ncodpers' : 'customer_code', \n",
    "               'ind_empleado' : 'employee_index',\n",
    "               'pais_residencia' : 'country_residence',\n",
    "               'sexo' : 'customer_sex', \n",
    "               'age' : 'age', \n",
    "               'fecha_alta' : 'account_opening_date',\n",
    "               'ind_nuevo' : 'new_customer_index',\n",
    "               'indrel' :'primary_customer_type',\n",
    "               'ult_fec_cli_1t' : 'primary_customer_last_date', \n",
    "               'indrel_1mes' : 'customer_type',\n",
    "               'tiprel_1mes' : 'customer_relation_type',\n",
    "               'indresi' : 'residence_as_per_bank_country',\n",
    "               'indext' : 'not_customer_birth_country', \n",
    "               'conyuemp' : 'spouse_of_employee',\n",
    "               'canal_entrada' : 'customer_joining_channel',\n",
    "               'indfall' : 'customer_not_alive', \n",
    "               'tipodom' : 'primary_address', \n",
    "               'cod_prov' : 'province_code',\n",
    "               'nomprov' : 'province_name',\n",
    "               'ind_actividad_cliente' : 'customer_active_status',\n",
    "               'renta' : 'total_income_household', \n",
    "               'segmento' : 'customer_segmentation', \n",
    "               'ind_ahor_fin_ult1' : 'saving_account', \n",
    "               'ind_aval_fin_ult1' : 'guarantees', \n",
    "               'ind_cco_fin_ult1' : 'current_account', \n",
    "               'ind_cder_fin_ult1' : 'derivada_account',\n",
    "               'ind_cno_fin_ult1' : 'payroll_account', \n",
    "               'ind_ctju_fin_ult1' : 'junior_account', \n",
    "               'ind_ctma_fin_ult1' : 'mas_particular_account', \n",
    "               'ind_ctop_fin_ult1' : 'particular_account', \n",
    "               'ind_ctpp_fin_ult1' : 'particular_plus_account',\n",
    "               'ind_deco_fin_ult1' : 'short_term_deposits',\n",
    "               'ind_deme_fin_ult1' : 'medium_term_deposits',\n",
    "               'ind_dela_fin_ult1' : 'long_term_deposits',\n",
    "               'ind_ecue_fin_ult1' : 'e_account', \n",
    "               'ind_fond_fin_ult1' : 'funds',\n",
    "               'ind_hip_fin_ult1' : 'mortgage',\n",
    "               'ind_plan_fin_ult1' : 'pensions', \n",
    "               'ind_pres_fin_ult1' : 'loans',\n",
    "               'ind_reca_fin_ult1' :'taxes', \n",
    "               'ind_tjcr_fin_ult1' : 'credit_card',\n",
    "               'ind_valo_fin_ult1' : 'securities', \n",
    "               'ind_viv_fin_ult1' : 'home_account',\n",
    "               'ind_nomina_ult1' : 'payroll', \n",
    "               'ind_nom_pens_ult1' : 'pension', \n",
    "               'ind_recibo_ult1' : 'direct_debit'}"
   ]
  },
  {
   "cell_type": "code",
   "execution_count": 3,
   "metadata": {},
   "outputs": [
    {
     "name": "stderr",
     "output_type": "stream",
     "text": [
      "<string>:2: DtypeWarning: Columns (5,8,11) have mixed types.Specify dtype option on import or set low_memory=False.\n"
     ]
    },
    {
     "name": "stdout",
     "output_type": "stream",
     "text": [
      "CPU times: user 1min 13s, sys: 5.87 s, total: 1min 19s\n",
      "Wall time: 1min 27s\n"
     ]
    }
   ],
   "source": [
    "%%time\n",
    "df = pd.read_csv(\"../input/santander-product-recommendation/train_ver2.csv.zip\",\n",
    "                 parse_dates = True,\n",
    "                 usecols=  ['fecha_dato', 'ncodpers', 'ind_empleado', 'pais_residencia', 'sexo',\n",
    "                            'age', 'fecha_alta', 'ind_nuevo', 'antiguedad', 'indrel',\n",
    "                            'indrel_1mes', 'tiprel_1mes', 'indresi', 'indext',\n",
    "                            'canal_entrada', 'indfall', 'cod_prov',\n",
    "                            'nomprov', 'ind_actividad_cliente', 'renta', 'segmento',\n",
    "                            'ind_ahor_fin_ult1', 'ind_aval_fin_ult1', 'ind_cco_fin_ult1',\n",
    "                            'ind_cder_fin_ult1', 'ind_cno_fin_ult1', 'ind_ctju_fin_ult1',\n",
    "                            'ind_ctma_fin_ult1', 'ind_ctop_fin_ult1', 'ind_ctpp_fin_ult1',\n",
    "                            'ind_deco_fin_ult1', 'ind_deme_fin_ult1', 'ind_dela_fin_ult1',\n",
    "                            'ind_ecue_fin_ult1', 'ind_fond_fin_ult1', 'ind_hip_fin_ult1',\n",
    "                            'ind_plan_fin_ult1', 'ind_pres_fin_ult1', 'ind_reca_fin_ult1',\n",
    "                            'ind_tjcr_fin_ult1', 'ind_valo_fin_ult1', 'ind_viv_fin_ult1',\n",
    "                            'ind_nomina_ult1', 'ind_nom_pens_ult1', 'ind_recibo_ult1'],\n",
    "                 \n",
    "                dtype={'ind_ahor_fin_ult1' : np.bool,\n",
    "                        'ind_aval_fin_ult1' : np.bool,\n",
    "                        'ind_cco_fin_ult1' : np.bool,\n",
    "                        'ind_cder_fin_ult1' : np.bool,\n",
    "                        'ind_cno_fin_ult1' :  np.bool,\n",
    "                        'ind_ctju_fin_ult1' : np.bool,\n",
    "                        'ind_ctma_fin_ult1' :  np.bool,\n",
    "                        'ind_ctop_fin_ult1' :  np.bool,\n",
    "                        'ind_ctpp_fin_ult1' :  np.bool,\n",
    "                        'ind_deco_fin_ult1' :  np.bool,\n",
    "                        'ind_deme_fin_ult1' :  np.bool,\n",
    "                        'ind_dela_fin_ult1' :  np.bool,\n",
    "                        'ind_ecue_fin_ult1' :  np.bool,\n",
    "                        'ind_fond_fin_ult1' :  np.bool,\n",
    "                        'ind_hip_fin_ult1' :  np.bool,\n",
    "                        'ind_plan_fin_ult1' : np.bool,\n",
    "                        'ind_pres_fin_ult1' : np.bool,\n",
    "                        'ind_reca_fin_ult1' : np.bool,\n",
    "                        'ind_tjcr_fin_ult1' : np.bool,\n",
    "                        'ind_valo_fin_ult1' : np.bool,\n",
    "                        'ind_viv_fin_ult1' : np.bool,\n",
    "\n",
    "                        'ind_recibo_ult1' : np.bool\n",
    "                      }\n",
    "\n",
    "                )\n",
    "#                         'ind_nomina_ult1' : 'int',\n",
    "#                         'ind_nom_pens_ult1' : 'int',\n"
   ]
  },
  {
   "cell_type": "code",
   "execution_count": 4,
   "metadata": {},
   "outputs": [],
   "source": [
    "df.rename(columns=rename_dict, inplace=True)"
   ]
  },
  {
   "cell_type": "code",
   "execution_count": 5,
   "metadata": {},
   "outputs": [
    {
     "data": {
      "text/plain": [
       "date                                   0\n",
       "customer_code                          0\n",
       "employee_index                     27734\n",
       "country_residence                  27734\n",
       "customer_sex                       27804\n",
       "age                                    0\n",
       "account_opening_date               27734\n",
       "new_customer_index                 27734\n",
       "customer_seniority                     0\n",
       "primary_customer_type              27734\n",
       "customer_type                     149781\n",
       "customer_relation_type            149781\n",
       "residence_as_per_bank_country      27734\n",
       "not_customer_birth_country         27734\n",
       "customer_joining_channel          186126\n",
       "customer_not_alive                 27734\n",
       "province_code                      93591\n",
       "province_name                      93591\n",
       "customer_active_status             27734\n",
       "total_income_household           2794375\n",
       "customer_segmentation             189368\n",
       "saving_account                         0\n",
       "guarantees                             0\n",
       "current_account                        0\n",
       "derivada_account                       0\n",
       "payroll_account                        0\n",
       "junior_account                         0\n",
       "mas_particular_account                 0\n",
       "particular_account                     0\n",
       "particular_plus_account                0\n",
       "short_term_deposits                    0\n",
       "medium_term_deposits                   0\n",
       "long_term_deposits                     0\n",
       "e_account                              0\n",
       "funds                                  0\n",
       "mortgage                               0\n",
       "pensions                               0\n",
       "loans                                  0\n",
       "taxes                                  0\n",
       "credit_card                            0\n",
       "securities                             0\n",
       "home_account                           0\n",
       "payroll                            16063\n",
       "pension                            16063\n",
       "direct_debit                           0\n",
       "dtype: int64"
      ]
     },
     "execution_count": 5,
     "metadata": {},
     "output_type": "execute_result"
    }
   ],
   "source": [
    "df.isna().sum()"
   ]
  },
  {
   "cell_type": "code",
   "execution_count": 6,
   "metadata": {},
   "outputs": [
    {
     "data": {
      "text/plain": [
       "date                              object\n",
       "customer_code                      int64\n",
       "employee_index                    object\n",
       "country_residence                 object\n",
       "customer_sex                      object\n",
       "age                               object\n",
       "account_opening_date              object\n",
       "new_customer_index               float64\n",
       "customer_seniority                object\n",
       "primary_customer_type            float64\n",
       "customer_type                     object\n",
       "customer_relation_type            object\n",
       "residence_as_per_bank_country     object\n",
       "not_customer_birth_country        object\n",
       "customer_joining_channel          object\n",
       "customer_not_alive                object\n",
       "province_code                    float64\n",
       "province_name                     object\n",
       "customer_active_status           float64\n",
       "total_income_household           float64\n",
       "customer_segmentation             object\n",
       "saving_account                      bool\n",
       "guarantees                          bool\n",
       "current_account                     bool\n",
       "derivada_account                    bool\n",
       "payroll_account                     bool\n",
       "junior_account                      bool\n",
       "mas_particular_account              bool\n",
       "particular_account                  bool\n",
       "particular_plus_account             bool\n",
       "short_term_deposits                 bool\n",
       "medium_term_deposits                bool\n",
       "long_term_deposits                  bool\n",
       "e_account                           bool\n",
       "funds                               bool\n",
       "mortgage                            bool\n",
       "pensions                            bool\n",
       "loans                               bool\n",
       "taxes                               bool\n",
       "credit_card                         bool\n",
       "securities                          bool\n",
       "home_account                        bool\n",
       "payroll                          float64\n",
       "pension                          float64\n",
       "direct_debit                        bool\n",
       "dtype: object"
      ]
     },
     "execution_count": 6,
     "metadata": {},
     "output_type": "execute_result"
    }
   ],
   "source": [
    "df.dtypes"
   ]
  },
  {
   "cell_type": "markdown",
   "metadata": {},
   "source": [
    "### ***NOTES***\n",
    "    some columns are skipped during reading csv, so we have to do cleaning on some features only\n",
    "#### ------DROP------- \n",
    "    Below columns are skipped during reading, so no need to drop\n",
    "    spouse_of_employee\n",
    "    primary_customer_last_date\n",
    "    primary_address\n",
    "\n",
    "\n",
    "#### -----------IMPUTE------------\n",
    "    employee_index = N\n",
    "    country_residence = ES\n",
    "    customer_sex = V   \n",
    "    new_customer_index = 0 (mode)\n",
    "    primary_customer_type = 1\n",
    "    residence_as_per_bank_country = Y (mode)\n",
    "    not_customer_birth_country = N (mode)\n",
    "    customer_not_alive = N (mode)\n",
    "    payroll = 0 (mode)\n",
    "    pension = 0 (mode)\n",
    "\n",
    "\n",
    "#### -------------- Baad Me Krenge ----------------\n",
    "    customer_type - > something bad in customer type \n",
    "    customer_relation_type - baad me krenge \n",
    "    account_opening_date = baad me krenge \n",
    "    customer_joining_channel = baad me krenge\n",
    "    province_code = Baad me krenge \n",
    "    province_name = Baad me krenge\n",
    "    customer_active_status = Baad me krenge\n",
    "    total_income_household = baad me krenge \n",
    "    customer_segmentation = baad me krenge \n",
    "\n",
    "    "
   ]
  },
  {
   "cell_type": "markdown",
   "metadata": {},
   "source": [
    "## First moment of business decision/Probability Distribution\n",
    "    1. Mean - Numerical - If outliers are present , dont use mean\n",
    "    2. Median - Numerical - If outliers present, can use median\n",
    "    3. Mode - Categorical\n",
    "   \n",
    "\n",
    "## Second Moment of Business Decision/ Probability Distribution\n",
    "    1. Variance\n",
    "    2. Standard Deviation\n",
    "    3. Range\n",
    "\n",
    "## Third Moment of Business Decision/Probability Distribution\n",
    "    1. skewness (Measure of asymmetry)\n",
    "    \n",
    "## Fourth Moment of Business Decision\n",
    "    1. Kurtosis (Measure of Peakedness)    \n",
    "    \n",
    "## Find Pearson Correlation    "
   ]
  },
  {
   "cell_type": "code",
   "execution_count": 27,
   "metadata": {},
   "outputs": [],
   "source": [
    "def fillna_with_mode(dataframe, column):\n",
    "    dataframe = dataframe[column].fillna(dataframe[column].mode()[0], inplace=True)"
   ]
  },
  {
   "cell_type": "code",
   "execution_count": 28,
   "metadata": {},
   "outputs": [],
   "source": [
    "cat_col_list = ['country_residence', 'employee_index', 'customer_sex','new_customer_index','primary_customer_type', \n",
    "    'residence_as_per_bank_country', \n",
    "    'not_customer_birth_country', \n",
    "    'customer_not_alive', \n",
    "    'payroll', \n",
    "    'pension']"
   ]
  },
  {
   "cell_type": "code",
   "execution_count": 9,
   "metadata": {},
   "outputs": [
    {
     "data": {
      "text/plain": [
       "V    7424252\n",
       "H    6195253\n",
       "Name: customer_sex, dtype: int64"
      ]
     },
     "execution_count": 9,
     "metadata": {},
     "output_type": "execute_result"
    }
   ],
   "source": [
    "df['customer_sex'].value_counts()"
   ]
  },
  {
   "cell_type": "code",
   "execution_count": 16,
   "metadata": {},
   "outputs": [
    {
     "name": "stdout",
     "output_type": "stream",
     "text": [
      "country_residence --> 27734 --> 0.002 %\n",
      "employee_index --> 27734 --> 0.002 %\n",
      "customer_sex --> 27804 --> 0.002 %\n",
      "new_customer_index --> 27734 --> 0.002 %\n",
      "primary_customer_type --> 27734 --> 0.002 %\n",
      "residence_as_per_bank_country --> 27734 --> 0.002 %\n",
      "not_customer_birth_country --> 27734 --> 0.002 %\n",
      "customer_not_alive --> 27734 --> 0.002 %\n",
      "payroll --> 16063 --> 0.0012 %\n",
      "pension --> 16063 --> 0.0012 %\n"
     ]
    }
   ],
   "source": [
    "for col in cat_col_list:\n",
    "    sum = df[col].isna().sum()\n",
    "    print(col,\"-->\",sum,\"-->\", round(sum/df[col].shape[0], 4),\"%\")"
   ]
  },
  {
   "cell_type": "code",
   "execution_count": 29,
   "metadata": {},
   "outputs": [],
   "source": [
    "for column in cat_col_list:\n",
    "    fillna_with_mode(df, column)"
   ]
  },
  {
   "cell_type": "code",
   "execution_count": 30,
   "metadata": {},
   "outputs": [
    {
     "name": "stdout",
     "output_type": "stream",
     "text": [
      "country_residence --> 0 --> 0.0 %\n",
      "employee_index --> 0 --> 0.0 %\n",
      "customer_sex --> 0 --> 0.0 %\n",
      "new_customer_index --> 0 --> 0.0 %\n",
      "primary_customer_type --> 0 --> 0.0 %\n",
      "residence_as_per_bank_country --> 0 --> 0.0 %\n",
      "not_customer_birth_country --> 0 --> 0.0 %\n",
      "customer_not_alive --> 0 --> 0.0 %\n",
      "payroll --> 0 --> 0.0 %\n",
      "pension --> 0 --> 0.0 %\n"
     ]
    }
   ],
   "source": [
    "for col in cat_col_list:\n",
    "    sum = df[col].isna().sum()\n",
    "    print(col,\"-->\",sum,\"-->\", round(sum/df[col].shape[0], 4),\"%\")"
   ]
  },
  {
   "cell_type": "code",
   "execution_count": 31,
   "metadata": {},
   "outputs": [
    {
     "data": {
      "text/plain": [
       "149781"
      ]
     },
     "execution_count": 31,
     "metadata": {},
     "output_type": "execute_result"
    }
   ],
   "source": [
    "df['customer_type'].isna().sum()"
   ]
  },
  {
   "cell_type": "code",
   "execution_count": 32,
   "metadata": {},
   "outputs": [
    {
     "data": {
      "text/plain": [
       "1.0    7277607\n",
       "1.0    4017746\n",
       "1      2195328\n",
       "3.0       1804\n",
       "3.0       1409\n",
       "3         1137\n",
       "P          874\n",
       "2          483\n",
       "2.0        479\n",
       "2.0        355\n",
       "4.0        143\n",
       "4.0         93\n",
       "4           70\n",
       "Name: customer_type, dtype: int64"
      ]
     },
     "execution_count": 32,
     "metadata": {},
     "output_type": "execute_result"
    }
   ],
   "source": [
    "df['customer_type'].value_counts()"
   ]
  },
  {
   "cell_type": "code",
   "execution_count": 39,
   "metadata": {},
   "outputs": [],
   "source": [
    "df['customer_type'] = df['customer_type'].replace('1.0',1)\n",
    "df['customer_type'] = df['customer_type'].replace(1.0,1)\n",
    "df['customer_type'] = df['customer_type'].replace('1',1)\n",
    "\n",
    "\n",
    "df['customer_type'] = df['customer_type'].replace('3.0',3)\n",
    "df['customer_type'] = df['customer_type'].replace(3.0,3)\n",
    "df['customer_type'] = df['customer_type'].replace('3',3)\n",
    "\n",
    "\n",
    "df['customer_type'] = df['customer_type'].replace('2.0',2)\n",
    "df['customer_type'] = df['customer_type'].replace(2.0,2)\n",
    "df['customer_type'] = df['customer_type'].replace('2',2)\n",
    "\n",
    "\n",
    "df['customer_type'] = df['customer_type'].replace('4.0',4)\n",
    "df['customer_type'] = df['customer_type'].replace(4.0,4)\n",
    "df['customer_type'] = df['customer_type'].replace('4',4)\n",
    "\n"
   ]
  },
  {
   "cell_type": "code",
   "execution_count": 40,
   "metadata": {},
   "outputs": [
    {
     "data": {
      "text/plain": [
       "1    13490681\n",
       "3        4350\n",
       "2        1317\n",
       "P         874\n",
       "4         306\n",
       "Name: customer_type, dtype: int64"
      ]
     },
     "execution_count": 40,
     "metadata": {},
     "output_type": "execute_result"
    }
   ],
   "source": [
    "df['customer_type'].value_counts()"
   ]
  },
  {
   "cell_type": "code",
   "execution_count": 41,
   "metadata": {},
   "outputs": [
    {
     "data": {
      "text/plain": [
       "I    7304875\n",
       "A    6187123\n",
       "P       4656\n",
       "R        870\n",
       "N          4\n",
       "Name: customer_relation_type, dtype: int64"
      ]
     },
     "execution_count": 41,
     "metadata": {},
     "output_type": "execute_result"
    }
   ],
   "source": [
    "df['customer_relation_type'].value_counts()"
   ]
  },
  {
   "cell_type": "code",
   "execution_count": 42,
   "metadata": {},
   "outputs": [
    {
     "data": {
      "text/plain": [
       "149781"
      ]
     },
     "execution_count": 42,
     "metadata": {},
     "output_type": "execute_result"
    }
   ],
   "source": [
    "df['customer_relation_type'].isna().sum()"
   ]
  },
  {
   "cell_type": "code",
   "execution_count": 44,
   "metadata": {},
   "outputs": [
    {
     "data": {
      "text/plain": [
       "27734"
      ]
     },
     "execution_count": 44,
     "metadata": {},
     "output_type": "execute_result"
    }
   ],
   "source": [
    "df['account_opening_date'].isna().sum()"
   ]
  },
  {
   "cell_type": "code",
   "execution_count": null,
   "metadata": {},
   "outputs": [
    {
     "data": {
      "text/plain": [
       "2014-07-28    57389\n",
       "2014-10-03    54287\n",
       "2014-08-04    45746\n",
       "2013-10-14    40804\n",
       "2013-08-03    33414\n",
       "              ...  \n",
       "2013-09-07       11\n",
       "2015-05-31        9\n",
       "2014-05-01        7\n",
       "2009-12-25        4\n",
       "2010-07-04        4\n",
       "Name: account_opening_date, Length: 6756, dtype: int64"
      ]
     },
     "execution_count": 45,
     "metadata": {},
     "output_type": "execute_result"
    }
   ],
   "source": [
    "df['account_opening_date'].value_counts()"
   ]
  },
  {
   "cell_type": "code",
   "execution_count": null,
   "metadata": {},
   "outputs": [],
   "source": []
  }
 ],
 "metadata": {
  "kernelspec": {
   "display_name": "Python 3",
   "language": "python",
   "name": "python3"
  },
  "language_info": {
   "codemirror_mode": {
    "name": "ipython",
    "version": 3
   },
   "file_extension": ".py",
   "mimetype": "text/x-python",
   "name": "python",
   "nbconvert_exporter": "python",
   "pygments_lexer": "ipython3",
   "version": "3.8.5"
  }
 },
 "nbformat": 4,
 "nbformat_minor": 4
}
