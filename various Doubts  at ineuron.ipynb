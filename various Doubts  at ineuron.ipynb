{
 "cells": [
  {
   "cell_type": "markdown",
   "metadata": {},
   "source": [
    "sir, I was able to scrape all the reviews of a product in my local system and stored them in Mongodb Atlas, you can try it for \"honor\" and \"iphone 7\"\n",
    "but when I deployed it to Heroku, when i searched it for honor and iphone 7 its fetching it from Atlas giving me correct output but for new search keyword(say redmi) after 50-60 reviews heroku shows timeout error \n",
    "https://review1234.herokuapp.com/\n"
   ]
  }
 ],
 "metadata": {
  "kernelspec": {
   "display_name": "Python 3",
   "language": "python",
   "name": "python3"
  },
  "language_info": {
   "codemirror_mode": {
    "name": "ipython",
    "version": 3
   },
   "file_extension": ".py",
   "mimetype": "text/x-python",
   "name": "python",
   "nbconvert_exporter": "python",
   "pygments_lexer": "ipython3",
   "version": "3.8.5"
  }
 },
 "nbformat": 4,
 "nbformat_minor": 4
}
